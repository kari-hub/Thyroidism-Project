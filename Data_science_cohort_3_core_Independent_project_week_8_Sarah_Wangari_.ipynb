{
  "nbformat": 4,
  "nbformat_minor": 0,
  "metadata": {
    "colab": {
      "name": "Data_science_cohort_3_core_Independent_project_week_8_Sarah_Wangari.",
      "provenance": [],
      "authorship_tag": "ABX9TyOdgA8tsVSTLVjF4cxSCs5p",
      "include_colab_link": true
    },
    "kernelspec": {
      "name": "python3",
      "display_name": "Python 3"
    }
  },
  "cells": [
    {
      "cell_type": "markdown",
      "metadata": {
        "id": "view-in-github",
        "colab_type": "text"
      },
      "source": [
        "<a href=\"https://colab.research.google.com/github/kari-hub/Thyroidism-Project/blob/master/Data_science_cohort_3_core_Independent_project_week_8_Sarah_Wangari_.ipynb\" target=\"_parent\"><img src=\"https://colab.research.google.com/assets/colab-badge.svg\" alt=\"Open In Colab\"/></a>"
      ]
    },
    {
      "cell_type": "markdown",
      "metadata": {
        "id": "_c2WLs1A-fvr",
        "colab_type": "text"
      },
      "source": [
        "# Assesment Question"
      ]
    },
    {
      "cell_type": "markdown",
      "metadata": {
        "id": "IBMgbez4_5j4",
        "colab_type": "text"
      },
      "source": [
        "> Nairobi Hospital conducted a clinical camp to test for hypothyroidism. The data collected focused on Thyroid patients. Use the healthcare datasets provided to accomplish the following:  \n",
        "\n",
        ">  Build a model that determines whether or not the patient's symptoms indicate that the patient has hypothyroid."
      ]
    },
    {
      "cell_type": "markdown",
      "metadata": {
        "id": "mFF_9AodAOpm",
        "colab_type": "text"
      },
      "source": [
        "Part One: "
      ]
    },
    {
      "cell_type": "markdown",
      "metadata": {
        "id": "MqVWc0sg8g1L",
        "colab_type": "text"
      },
      "source": [
        "# Solution"
      ]
    },
    {
      "cell_type": "markdown",
      "metadata": {
        "id": "GsECgpLPAkqZ",
        "colab_type": "text"
      },
      "source": [
        ">>Part 1: Decision trees:\n",
        "\n",
        "For this section, we will build a model that makes the above prediction. \n",
        "\n",
        "We will not use individual decision trees, rather we will use at least 2 out of the 3 advanced models we have studied:\n",
        "- Random forests\n",
        "- Ada boosted trees\n",
        "- Gradient boosted trees.\n",
        "\n",
        "By trying and optimizing each of the 2 models and making sure to document how the hyperparameters are set up, we will be able to identify which of the 2 models we trust most, and use our model to determine which features are most impactful in influencing the prediction."
      ]
    },
    {
      "cell_type": "markdown",
      "metadata": {
        "id": "7Cb3e0tmBshk",
        "colab_type": "text"
      },
      "source": [
        ">> Part 2: SVM:\n",
        "\n",
        "**- In this section, you may be required to clean the data a little bit so as to make sense of the features.**\n",
        "\n",
        "- Document what transformation you've done on the data.\n",
        "\n",
        "- Apply Polynomial, linear and rbf kernel function to build your SVM model and then evaluate their performance and pick the kernel that performs the best. Remember to tune your parameters to improve the performance of your model. To make your life easier, make sure to visualize the models you've created. Use any two features to build the models for this step.\n",
        "\n",
        "**Hint: You may want to use decision trees to give you the most preferable features you can use. but also keep in mind that those features might not be suitable for SVM. It might be a good idea to graph them first.**\n",
        "\n",
        "-  After getting your best performing kernel, use this kernel together with your tuned parameters and repeat the prediction but this time using additional features. Compare the model you've just created with the 2-features version."
      ]
    },
    {
      "cell_type": "markdown",
      "metadata": {
        "id": "qcOeNcXs8kbK",
        "colab_type": "text"
      },
      "source": [
        "## Defining the question"
      ]
    },
    {
      "cell_type": "markdown",
      "metadata": {
        "id": "y3dz1k9u8qFt",
        "colab_type": "text"
      },
      "source": [
        "### a) Specifying the question"
      ]
    },
    {
      "cell_type": "markdown",
      "metadata": {
        "id": "XNuKnZkQPAWh",
        "colab_type": "text"
      },
      "source": [
        "> "
      ]
    },
    {
      "cell_type": "markdown",
      "metadata": {
        "id": "VI1CeJz58yEo",
        "colab_type": "text"
      },
      "source": [
        "### b) Defining the metric of success"
      ]
    },
    {
      "cell_type": "markdown",
      "metadata": {
        "id": "ZzUUWCK786lg",
        "colab_type": "text"
      },
      "source": [
        "### c) Understanding the context"
      ]
    },
    {
      "cell_type": "markdown",
      "metadata": {
        "id": "s1j-FmJ99BVe",
        "colab_type": "text"
      },
      "source": [
        "### d) Recording the experimental design"
      ]
    },
    {
      "cell_type": "markdown",
      "metadata": {
        "id": "PfVQtOhl9Nqc",
        "colab_type": "text"
      },
      "source": [
        "### e) Data Relevance"
      ]
    },
    {
      "cell_type": "markdown",
      "metadata": {
        "id": "n0OQ9QGE9Ze0",
        "colab_type": "text"
      },
      "source": [
        "### f) Appropriateness of data"
      ]
    },
    {
      "cell_type": "markdown",
      "metadata": {
        "id": "GtfY2Gm49wtN",
        "colab_type": "text"
      },
      "source": [
        "## Reading the data"
      ]
    },
    {
      "cell_type": "code",
      "metadata": {
        "id": "K8xjmjFh-l0w",
        "colab_type": "code",
        "colab": {}
      },
      "source": [
        "# Loading our libraries\n",
        "\n",
        "import pandas as pd\n",
        "import numpy as np\n",
        "import matplotlib.pyplot as plt\n",
        "import seaborn as sns; sns.set(font_scale=1.2)\n",
        "from sklearn.tree import DecisionTreeClassifier\n",
        "from sklearn.tree import DecisionTreeRegressor\n",
        "from sklearn.model_selection import train_test_split\n",
        "from sklearn import metrics\n",
        "from sklearn.preprocessing import LabelEncoder\n",
        "from sklearn.svm import SVC, LinearSVC\n",
        "from sklearn.decomposition import PCA\n",
        "from sklearn.ensemble import GradientBoostingRegressor\n",
        "from sklearn.ensemble import AdaBoostRegressor\n",
        "from sklearn.tree import export_graphviz\n",
        "from sklearn.externals.six import StringIO  \n",
        "from IPython.display import Image  \n",
        "import pydotplus\n",
        "%matplotlib inline"
      ],
      "execution_count": 0,
      "outputs": []
    },
    {
      "cell_type": "code",
      "metadata": {
        "id": "xPXf3lm5noXN",
        "colab_type": "code",
        "colab": {}
      },
      "source": [
        "# Ensuring that all our columns in our dataset are visible.\n",
        "\n",
        "pd.set_option(\"display.max.columns\", None)"
      ],
      "execution_count": 0,
      "outputs": []
    },
    {
      "cell_type": "code",
      "metadata": {
        "id": "E6vEWyjHBm08",
        "colab_type": "code",
        "colab": {}
      },
      "source": [
        "# Reading our dataset\n",
        "\n",
        "thyroid = pd.read_csv('/content/hypothyroid.csv')\n"
      ],
      "execution_count": 0,
      "outputs": []
    },
    {
      "cell_type": "markdown",
      "metadata": {
        "id": "cm_aOpe4-fDt",
        "colab_type": "text"
      },
      "source": [
        "## Checking Data"
      ]
    },
    {
      "cell_type": "code",
      "metadata": {
        "id": "-exDf26OoNOY",
        "colab_type": "code",
        "outputId": "8209bbe4-6079-4e0c-90ba-c79c4e61201e",
        "colab": {
          "base_uri": "https://localhost:8080/",
          "height": 224
        }
      },
      "source": [
        "# Previewing the top of our dataset\n",
        "\n",
        "thyroid.head()"
      ],
      "execution_count": 112,
      "outputs": [
        {
          "output_type": "execute_result",
          "data": {
            "text/html": [
              "<div>\n",
              "<style scoped>\n",
              "    .dataframe tbody tr th:only-of-type {\n",
              "        vertical-align: middle;\n",
              "    }\n",
              "\n",
              "    .dataframe tbody tr th {\n",
              "        vertical-align: top;\n",
              "    }\n",
              "\n",
              "    .dataframe thead th {\n",
              "        text-align: right;\n",
              "    }\n",
              "</style>\n",
              "<table border=\"1\" class=\"dataframe\">\n",
              "  <thead>\n",
              "    <tr style=\"text-align: right;\">\n",
              "      <th></th>\n",
              "      <th>status</th>\n",
              "      <th>age</th>\n",
              "      <th>sex</th>\n",
              "      <th>on_thyroxine</th>\n",
              "      <th>query_on_thyroxine</th>\n",
              "      <th>on_antithyroid_medication</th>\n",
              "      <th>thyroid_surgery</th>\n",
              "      <th>query_hypothyroid</th>\n",
              "      <th>query_hyperthyroid</th>\n",
              "      <th>pregnant</th>\n",
              "      <th>sick</th>\n",
              "      <th>tumor</th>\n",
              "      <th>lithium</th>\n",
              "      <th>goitre</th>\n",
              "      <th>TSH_measured</th>\n",
              "      <th>TSH</th>\n",
              "      <th>T3_measured</th>\n",
              "      <th>T3</th>\n",
              "      <th>TT4_measured</th>\n",
              "      <th>TT4</th>\n",
              "      <th>T4U_measured</th>\n",
              "      <th>T4U</th>\n",
              "      <th>FTI_measured</th>\n",
              "      <th>FTI</th>\n",
              "      <th>TBG_measured</th>\n",
              "      <th>TBG</th>\n",
              "    </tr>\n",
              "  </thead>\n",
              "  <tbody>\n",
              "    <tr>\n",
              "      <th>0</th>\n",
              "      <td>hypothyroid</td>\n",
              "      <td>72</td>\n",
              "      <td>M</td>\n",
              "      <td>f</td>\n",
              "      <td>f</td>\n",
              "      <td>f</td>\n",
              "      <td>f</td>\n",
              "      <td>f</td>\n",
              "      <td>f</td>\n",
              "      <td>f</td>\n",
              "      <td>f</td>\n",
              "      <td>f</td>\n",
              "      <td>f</td>\n",
              "      <td>f</td>\n",
              "      <td>y</td>\n",
              "      <td>30</td>\n",
              "      <td>y</td>\n",
              "      <td>0.60</td>\n",
              "      <td>y</td>\n",
              "      <td>15</td>\n",
              "      <td>y</td>\n",
              "      <td>1.48</td>\n",
              "      <td>y</td>\n",
              "      <td>10</td>\n",
              "      <td>n</td>\n",
              "      <td>?</td>\n",
              "    </tr>\n",
              "    <tr>\n",
              "      <th>1</th>\n",
              "      <td>hypothyroid</td>\n",
              "      <td>15</td>\n",
              "      <td>F</td>\n",
              "      <td>t</td>\n",
              "      <td>f</td>\n",
              "      <td>f</td>\n",
              "      <td>f</td>\n",
              "      <td>f</td>\n",
              "      <td>f</td>\n",
              "      <td>f</td>\n",
              "      <td>f</td>\n",
              "      <td>f</td>\n",
              "      <td>f</td>\n",
              "      <td>f</td>\n",
              "      <td>y</td>\n",
              "      <td>145</td>\n",
              "      <td>y</td>\n",
              "      <td>1.70</td>\n",
              "      <td>y</td>\n",
              "      <td>19</td>\n",
              "      <td>y</td>\n",
              "      <td>1.13</td>\n",
              "      <td>y</td>\n",
              "      <td>17</td>\n",
              "      <td>n</td>\n",
              "      <td>?</td>\n",
              "    </tr>\n",
              "    <tr>\n",
              "      <th>2</th>\n",
              "      <td>hypothyroid</td>\n",
              "      <td>24</td>\n",
              "      <td>M</td>\n",
              "      <td>f</td>\n",
              "      <td>f</td>\n",
              "      <td>f</td>\n",
              "      <td>f</td>\n",
              "      <td>f</td>\n",
              "      <td>f</td>\n",
              "      <td>f</td>\n",
              "      <td>f</td>\n",
              "      <td>f</td>\n",
              "      <td>f</td>\n",
              "      <td>f</td>\n",
              "      <td>y</td>\n",
              "      <td>0</td>\n",
              "      <td>y</td>\n",
              "      <td>0.20</td>\n",
              "      <td>y</td>\n",
              "      <td>4</td>\n",
              "      <td>y</td>\n",
              "      <td>1</td>\n",
              "      <td>y</td>\n",
              "      <td>0</td>\n",
              "      <td>n</td>\n",
              "      <td>?</td>\n",
              "    </tr>\n",
              "    <tr>\n",
              "      <th>3</th>\n",
              "      <td>hypothyroid</td>\n",
              "      <td>24</td>\n",
              "      <td>F</td>\n",
              "      <td>f</td>\n",
              "      <td>f</td>\n",
              "      <td>f</td>\n",
              "      <td>f</td>\n",
              "      <td>f</td>\n",
              "      <td>f</td>\n",
              "      <td>f</td>\n",
              "      <td>f</td>\n",
              "      <td>f</td>\n",
              "      <td>f</td>\n",
              "      <td>f</td>\n",
              "      <td>y</td>\n",
              "      <td>430</td>\n",
              "      <td>y</td>\n",
              "      <td>0.40</td>\n",
              "      <td>y</td>\n",
              "      <td>6</td>\n",
              "      <td>y</td>\n",
              "      <td>1.04</td>\n",
              "      <td>y</td>\n",
              "      <td>6</td>\n",
              "      <td>n</td>\n",
              "      <td>?</td>\n",
              "    </tr>\n",
              "    <tr>\n",
              "      <th>4</th>\n",
              "      <td>hypothyroid</td>\n",
              "      <td>77</td>\n",
              "      <td>M</td>\n",
              "      <td>f</td>\n",
              "      <td>f</td>\n",
              "      <td>f</td>\n",
              "      <td>f</td>\n",
              "      <td>f</td>\n",
              "      <td>f</td>\n",
              "      <td>f</td>\n",
              "      <td>f</td>\n",
              "      <td>f</td>\n",
              "      <td>f</td>\n",
              "      <td>f</td>\n",
              "      <td>y</td>\n",
              "      <td>7.30</td>\n",
              "      <td>y</td>\n",
              "      <td>1.20</td>\n",
              "      <td>y</td>\n",
              "      <td>57</td>\n",
              "      <td>y</td>\n",
              "      <td>1.28</td>\n",
              "      <td>y</td>\n",
              "      <td>44</td>\n",
              "      <td>n</td>\n",
              "      <td>?</td>\n",
              "    </tr>\n",
              "  </tbody>\n",
              "</table>\n",
              "</div>"
            ],
            "text/plain": [
              "        status age sex on_thyroxine query_on_thyroxine  \\\n",
              "0  hypothyroid  72   M            f                  f   \n",
              "1  hypothyroid  15   F            t                  f   \n",
              "2  hypothyroid  24   M            f                  f   \n",
              "3  hypothyroid  24   F            f                  f   \n",
              "4  hypothyroid  77   M            f                  f   \n",
              "\n",
              "  on_antithyroid_medication thyroid_surgery query_hypothyroid  \\\n",
              "0                         f               f                 f   \n",
              "1                         f               f                 f   \n",
              "2                         f               f                 f   \n",
              "3                         f               f                 f   \n",
              "4                         f               f                 f   \n",
              "\n",
              "  query_hyperthyroid pregnant sick tumor lithium goitre TSH_measured   TSH  \\\n",
              "0                  f        f    f     f       f      f            y    30   \n",
              "1                  f        f    f     f       f      f            y   145   \n",
              "2                  f        f    f     f       f      f            y     0   \n",
              "3                  f        f    f     f       f      f            y   430   \n",
              "4                  f        f    f     f       f      f            y  7.30   \n",
              "\n",
              "  T3_measured    T3 TT4_measured TT4 T4U_measured   T4U FTI_measured FTI  \\\n",
              "0           y  0.60            y  15            y  1.48            y  10   \n",
              "1           y  1.70            y  19            y  1.13            y  17   \n",
              "2           y  0.20            y   4            y     1            y   0   \n",
              "3           y  0.40            y   6            y  1.04            y   6   \n",
              "4           y  1.20            y  57            y  1.28            y  44   \n",
              "\n",
              "  TBG_measured TBG  \n",
              "0            n   ?  \n",
              "1            n   ?  \n",
              "2            n   ?  \n",
              "3            n   ?  \n",
              "4            n   ?  "
            ]
          },
          "metadata": {
            "tags": []
          },
          "execution_count": 112
        }
      ]
    },
    {
      "cell_type": "code",
      "metadata": {
        "id": "W33wAxapoaPS",
        "colab_type": "code",
        "outputId": "1803c40d-a0c7-40f5-a638-e22af95dfcc6",
        "colab": {
          "base_uri": "https://localhost:8080/",
          "height": 224
        }
      },
      "source": [
        "# Previewing the bottom of our dataset\n",
        "\n",
        "thyroid.tail()"
      ],
      "execution_count": 113,
      "outputs": [
        {
          "output_type": "execute_result",
          "data": {
            "text/html": [
              "<div>\n",
              "<style scoped>\n",
              "    .dataframe tbody tr th:only-of-type {\n",
              "        vertical-align: middle;\n",
              "    }\n",
              "\n",
              "    .dataframe tbody tr th {\n",
              "        vertical-align: top;\n",
              "    }\n",
              "\n",
              "    .dataframe thead th {\n",
              "        text-align: right;\n",
              "    }\n",
              "</style>\n",
              "<table border=\"1\" class=\"dataframe\">\n",
              "  <thead>\n",
              "    <tr style=\"text-align: right;\">\n",
              "      <th></th>\n",
              "      <th>status</th>\n",
              "      <th>age</th>\n",
              "      <th>sex</th>\n",
              "      <th>on_thyroxine</th>\n",
              "      <th>query_on_thyroxine</th>\n",
              "      <th>on_antithyroid_medication</th>\n",
              "      <th>thyroid_surgery</th>\n",
              "      <th>query_hypothyroid</th>\n",
              "      <th>query_hyperthyroid</th>\n",
              "      <th>pregnant</th>\n",
              "      <th>sick</th>\n",
              "      <th>tumor</th>\n",
              "      <th>lithium</th>\n",
              "      <th>goitre</th>\n",
              "      <th>TSH_measured</th>\n",
              "      <th>TSH</th>\n",
              "      <th>T3_measured</th>\n",
              "      <th>T3</th>\n",
              "      <th>TT4_measured</th>\n",
              "      <th>TT4</th>\n",
              "      <th>T4U_measured</th>\n",
              "      <th>T4U</th>\n",
              "      <th>FTI_measured</th>\n",
              "      <th>FTI</th>\n",
              "      <th>TBG_measured</th>\n",
              "      <th>TBG</th>\n",
              "    </tr>\n",
              "  </thead>\n",
              "  <tbody>\n",
              "    <tr>\n",
              "      <th>3158</th>\n",
              "      <td>negative</td>\n",
              "      <td>58</td>\n",
              "      <td>F</td>\n",
              "      <td>f</td>\n",
              "      <td>f</td>\n",
              "      <td>f</td>\n",
              "      <td>f</td>\n",
              "      <td>f</td>\n",
              "      <td>f</td>\n",
              "      <td>f</td>\n",
              "      <td>f</td>\n",
              "      <td>f</td>\n",
              "      <td>f</td>\n",
              "      <td>f</td>\n",
              "      <td>y</td>\n",
              "      <td>5.80</td>\n",
              "      <td>y</td>\n",
              "      <td>1.70</td>\n",
              "      <td>y</td>\n",
              "      <td>86</td>\n",
              "      <td>y</td>\n",
              "      <td>0.91</td>\n",
              "      <td>y</td>\n",
              "      <td>95</td>\n",
              "      <td>n</td>\n",
              "      <td>?</td>\n",
              "    </tr>\n",
              "    <tr>\n",
              "      <th>3159</th>\n",
              "      <td>negative</td>\n",
              "      <td>29</td>\n",
              "      <td>F</td>\n",
              "      <td>f</td>\n",
              "      <td>f</td>\n",
              "      <td>f</td>\n",
              "      <td>f</td>\n",
              "      <td>f</td>\n",
              "      <td>f</td>\n",
              "      <td>f</td>\n",
              "      <td>f</td>\n",
              "      <td>f</td>\n",
              "      <td>f</td>\n",
              "      <td>f</td>\n",
              "      <td>y</td>\n",
              "      <td>0.80</td>\n",
              "      <td>y</td>\n",
              "      <td>1.80</td>\n",
              "      <td>y</td>\n",
              "      <td>99</td>\n",
              "      <td>y</td>\n",
              "      <td>1.01</td>\n",
              "      <td>y</td>\n",
              "      <td>98</td>\n",
              "      <td>n</td>\n",
              "      <td>?</td>\n",
              "    </tr>\n",
              "    <tr>\n",
              "      <th>3160</th>\n",
              "      <td>negative</td>\n",
              "      <td>77</td>\n",
              "      <td>M</td>\n",
              "      <td>f</td>\n",
              "      <td>f</td>\n",
              "      <td>f</td>\n",
              "      <td>f</td>\n",
              "      <td>f</td>\n",
              "      <td>f</td>\n",
              "      <td>f</td>\n",
              "      <td>f</td>\n",
              "      <td>f</td>\n",
              "      <td>f</td>\n",
              "      <td>f</td>\n",
              "      <td>y</td>\n",
              "      <td>1.20</td>\n",
              "      <td>y</td>\n",
              "      <td>0.60</td>\n",
              "      <td>y</td>\n",
              "      <td>71</td>\n",
              "      <td>y</td>\n",
              "      <td>0.68</td>\n",
              "      <td>y</td>\n",
              "      <td>104</td>\n",
              "      <td>n</td>\n",
              "      <td>?</td>\n",
              "    </tr>\n",
              "    <tr>\n",
              "      <th>3161</th>\n",
              "      <td>negative</td>\n",
              "      <td>74</td>\n",
              "      <td>F</td>\n",
              "      <td>f</td>\n",
              "      <td>f</td>\n",
              "      <td>f</td>\n",
              "      <td>f</td>\n",
              "      <td>f</td>\n",
              "      <td>f</td>\n",
              "      <td>f</td>\n",
              "      <td>f</td>\n",
              "      <td>f</td>\n",
              "      <td>f</td>\n",
              "      <td>f</td>\n",
              "      <td>y</td>\n",
              "      <td>1.30</td>\n",
              "      <td>y</td>\n",
              "      <td>0.10</td>\n",
              "      <td>y</td>\n",
              "      <td>65</td>\n",
              "      <td>y</td>\n",
              "      <td>0.48</td>\n",
              "      <td>y</td>\n",
              "      <td>137</td>\n",
              "      <td>n</td>\n",
              "      <td>?</td>\n",
              "    </tr>\n",
              "    <tr>\n",
              "      <th>3162</th>\n",
              "      <td>negative</td>\n",
              "      <td>56</td>\n",
              "      <td>F</td>\n",
              "      <td>t</td>\n",
              "      <td>f</td>\n",
              "      <td>f</td>\n",
              "      <td>f</td>\n",
              "      <td>f</td>\n",
              "      <td>f</td>\n",
              "      <td>f</td>\n",
              "      <td>f</td>\n",
              "      <td>f</td>\n",
              "      <td>f</td>\n",
              "      <td>f</td>\n",
              "      <td>y</td>\n",
              "      <td>0</td>\n",
              "      <td>y</td>\n",
              "      <td>1.80</td>\n",
              "      <td>y</td>\n",
              "      <td>139</td>\n",
              "      <td>y</td>\n",
              "      <td>0.97</td>\n",
              "      <td>y</td>\n",
              "      <td>143</td>\n",
              "      <td>n</td>\n",
              "      <td>?</td>\n",
              "    </tr>\n",
              "  </tbody>\n",
              "</table>\n",
              "</div>"
            ],
            "text/plain": [
              "        status age sex on_thyroxine query_on_thyroxine  \\\n",
              "3158  negative  58   F            f                  f   \n",
              "3159  negative  29   F            f                  f   \n",
              "3160  negative  77   M            f                  f   \n",
              "3161  negative  74   F            f                  f   \n",
              "3162  negative  56   F            t                  f   \n",
              "\n",
              "     on_antithyroid_medication thyroid_surgery query_hypothyroid  \\\n",
              "3158                         f               f                 f   \n",
              "3159                         f               f                 f   \n",
              "3160                         f               f                 f   \n",
              "3161                         f               f                 f   \n",
              "3162                         f               f                 f   \n",
              "\n",
              "     query_hyperthyroid pregnant sick tumor lithium goitre TSH_measured   TSH  \\\n",
              "3158                  f        f    f     f       f      f            y  5.80   \n",
              "3159                  f        f    f     f       f      f            y  0.80   \n",
              "3160                  f        f    f     f       f      f            y  1.20   \n",
              "3161                  f        f    f     f       f      f            y  1.30   \n",
              "3162                  f        f    f     f       f      f            y     0   \n",
              "\n",
              "     T3_measured    T3 TT4_measured  TT4 T4U_measured   T4U FTI_measured  FTI  \\\n",
              "3158           y  1.70            y   86            y  0.91            y   95   \n",
              "3159           y  1.80            y   99            y  1.01            y   98   \n",
              "3160           y  0.60            y   71            y  0.68            y  104   \n",
              "3161           y  0.10            y   65            y  0.48            y  137   \n",
              "3162           y  1.80            y  139            y  0.97            y  143   \n",
              "\n",
              "     TBG_measured TBG  \n",
              "3158            n   ?  \n",
              "3159            n   ?  \n",
              "3160            n   ?  \n",
              "3161            n   ?  \n",
              "3162            n   ?  "
            ]
          },
          "metadata": {
            "tags": []
          },
          "execution_count": 113
        }
      ]
    },
    {
      "cell_type": "code",
      "metadata": {
        "id": "YZSDA6TuorqC",
        "colab_type": "code",
        "outputId": "be5e3c50-dbcd-4af8-c28a-bfad0e0487c8",
        "colab": {
          "base_uri": "https://localhost:8080/",
          "height": 34
        }
      },
      "source": [
        "# Determining the shape of our dataset\n",
        "\n",
        "thyroid.shape"
      ],
      "execution_count": 114,
      "outputs": [
        {
          "output_type": "execute_result",
          "data": {
            "text/plain": [
              "(3163, 26)"
            ]
          },
          "metadata": {
            "tags": []
          },
          "execution_count": 114
        }
      ]
    },
    {
      "cell_type": "code",
      "metadata": {
        "id": "wxnL__z8o1Cv",
        "colab_type": "code",
        "outputId": "ceffadb1-fe91-4453-b16d-04d86ddf8d02",
        "colab": {
          "base_uri": "https://localhost:8080/",
          "height": 578
        }
      },
      "source": [
        "# Understanding our dataset\n",
        "\n",
        "thyroid.info()"
      ],
      "execution_count": 115,
      "outputs": [
        {
          "output_type": "stream",
          "text": [
            "<class 'pandas.core.frame.DataFrame'>\n",
            "RangeIndex: 3163 entries, 0 to 3162\n",
            "Data columns (total 26 columns):\n",
            " #   Column                     Non-Null Count  Dtype \n",
            "---  ------                     --------------  ----- \n",
            " 0   status                     3163 non-null   object\n",
            " 1   age                        3163 non-null   object\n",
            " 2   sex                        3163 non-null   object\n",
            " 3   on_thyroxine               3163 non-null   object\n",
            " 4   query_on_thyroxine         3163 non-null   object\n",
            " 5   on_antithyroid_medication  3163 non-null   object\n",
            " 6   thyroid_surgery            3163 non-null   object\n",
            " 7   query_hypothyroid          3163 non-null   object\n",
            " 8   query_hyperthyroid         3163 non-null   object\n",
            " 9   pregnant                   3163 non-null   object\n",
            " 10  sick                       3163 non-null   object\n",
            " 11  tumor                      3163 non-null   object\n",
            " 12  lithium                    3163 non-null   object\n",
            " 13  goitre                     3163 non-null   object\n",
            " 14  TSH_measured               3163 non-null   object\n",
            " 15  TSH                        3163 non-null   object\n",
            " 16  T3_measured                3163 non-null   object\n",
            " 17  T3                         3163 non-null   object\n",
            " 18  TT4_measured               3163 non-null   object\n",
            " 19  TT4                        3163 non-null   object\n",
            " 20  T4U_measured               3163 non-null   object\n",
            " 21  T4U                        3163 non-null   object\n",
            " 22  FTI_measured               3163 non-null   object\n",
            " 23  FTI                        3163 non-null   object\n",
            " 24  TBG_measured               3163 non-null   object\n",
            " 25  TBG                        3163 non-null   object\n",
            "dtypes: object(26)\n",
            "memory usage: 642.6+ KB\n"
          ],
          "name": "stdout"
        }
      ]
    },
    {
      "cell_type": "markdown",
      "metadata": {
        "id": "G-TmTyhp-lFT",
        "colab_type": "text"
      },
      "source": [
        "## Tidying the dataset"
      ]
    },
    {
      "cell_type": "code",
      "metadata": {
        "id": "xVbijqDIpN52",
        "colab_type": "code",
        "outputId": "26a88bd6-5f5c-4ea3-a9fd-edbe4e98335c",
        "colab": {
          "base_uri": "https://localhost:8080/",
          "height": 34
        }
      },
      "source": [
        "# Data Cleaning: Checking for duplicates\n",
        "\n",
        "thyroid.duplicated().sum()"
      ],
      "execution_count": 116,
      "outputs": [
        {
          "output_type": "execute_result",
          "data": {
            "text/plain": [
              "77"
            ]
          },
          "metadata": {
            "tags": []
          },
          "execution_count": 116
        }
      ]
    },
    {
      "cell_type": "code",
      "metadata": {
        "id": "of48a491pftX",
        "colab_type": "code",
        "outputId": "ee04c411-1673-4d14-ad11-0cec92580624",
        "colab": {
          "base_uri": "https://localhost:8080/",
          "height": 439
        }
      },
      "source": [
        "# Dropping duplicates in our dataset\n",
        "\n",
        "thyroid.drop_duplicates()\n"
      ],
      "execution_count": 117,
      "outputs": [
        {
          "output_type": "execute_result",
          "data": {
            "text/html": [
              "<div>\n",
              "<style scoped>\n",
              "    .dataframe tbody tr th:only-of-type {\n",
              "        vertical-align: middle;\n",
              "    }\n",
              "\n",
              "    .dataframe tbody tr th {\n",
              "        vertical-align: top;\n",
              "    }\n",
              "\n",
              "    .dataframe thead th {\n",
              "        text-align: right;\n",
              "    }\n",
              "</style>\n",
              "<table border=\"1\" class=\"dataframe\">\n",
              "  <thead>\n",
              "    <tr style=\"text-align: right;\">\n",
              "      <th></th>\n",
              "      <th>status</th>\n",
              "      <th>age</th>\n",
              "      <th>sex</th>\n",
              "      <th>on_thyroxine</th>\n",
              "      <th>query_on_thyroxine</th>\n",
              "      <th>on_antithyroid_medication</th>\n",
              "      <th>thyroid_surgery</th>\n",
              "      <th>query_hypothyroid</th>\n",
              "      <th>query_hyperthyroid</th>\n",
              "      <th>pregnant</th>\n",
              "      <th>sick</th>\n",
              "      <th>tumor</th>\n",
              "      <th>lithium</th>\n",
              "      <th>goitre</th>\n",
              "      <th>TSH_measured</th>\n",
              "      <th>TSH</th>\n",
              "      <th>T3_measured</th>\n",
              "      <th>T3</th>\n",
              "      <th>TT4_measured</th>\n",
              "      <th>TT4</th>\n",
              "      <th>T4U_measured</th>\n",
              "      <th>T4U</th>\n",
              "      <th>FTI_measured</th>\n",
              "      <th>FTI</th>\n",
              "      <th>TBG_measured</th>\n",
              "      <th>TBG</th>\n",
              "    </tr>\n",
              "  </thead>\n",
              "  <tbody>\n",
              "    <tr>\n",
              "      <th>0</th>\n",
              "      <td>hypothyroid</td>\n",
              "      <td>72</td>\n",
              "      <td>M</td>\n",
              "      <td>f</td>\n",
              "      <td>f</td>\n",
              "      <td>f</td>\n",
              "      <td>f</td>\n",
              "      <td>f</td>\n",
              "      <td>f</td>\n",
              "      <td>f</td>\n",
              "      <td>f</td>\n",
              "      <td>f</td>\n",
              "      <td>f</td>\n",
              "      <td>f</td>\n",
              "      <td>y</td>\n",
              "      <td>30</td>\n",
              "      <td>y</td>\n",
              "      <td>0.60</td>\n",
              "      <td>y</td>\n",
              "      <td>15</td>\n",
              "      <td>y</td>\n",
              "      <td>1.48</td>\n",
              "      <td>y</td>\n",
              "      <td>10</td>\n",
              "      <td>n</td>\n",
              "      <td>?</td>\n",
              "    </tr>\n",
              "    <tr>\n",
              "      <th>1</th>\n",
              "      <td>hypothyroid</td>\n",
              "      <td>15</td>\n",
              "      <td>F</td>\n",
              "      <td>t</td>\n",
              "      <td>f</td>\n",
              "      <td>f</td>\n",
              "      <td>f</td>\n",
              "      <td>f</td>\n",
              "      <td>f</td>\n",
              "      <td>f</td>\n",
              "      <td>f</td>\n",
              "      <td>f</td>\n",
              "      <td>f</td>\n",
              "      <td>f</td>\n",
              "      <td>y</td>\n",
              "      <td>145</td>\n",
              "      <td>y</td>\n",
              "      <td>1.70</td>\n",
              "      <td>y</td>\n",
              "      <td>19</td>\n",
              "      <td>y</td>\n",
              "      <td>1.13</td>\n",
              "      <td>y</td>\n",
              "      <td>17</td>\n",
              "      <td>n</td>\n",
              "      <td>?</td>\n",
              "    </tr>\n",
              "    <tr>\n",
              "      <th>2</th>\n",
              "      <td>hypothyroid</td>\n",
              "      <td>24</td>\n",
              "      <td>M</td>\n",
              "      <td>f</td>\n",
              "      <td>f</td>\n",
              "      <td>f</td>\n",
              "      <td>f</td>\n",
              "      <td>f</td>\n",
              "      <td>f</td>\n",
              "      <td>f</td>\n",
              "      <td>f</td>\n",
              "      <td>f</td>\n",
              "      <td>f</td>\n",
              "      <td>f</td>\n",
              "      <td>y</td>\n",
              "      <td>0</td>\n",
              "      <td>y</td>\n",
              "      <td>0.20</td>\n",
              "      <td>y</td>\n",
              "      <td>4</td>\n",
              "      <td>y</td>\n",
              "      <td>1</td>\n",
              "      <td>y</td>\n",
              "      <td>0</td>\n",
              "      <td>n</td>\n",
              "      <td>?</td>\n",
              "    </tr>\n",
              "    <tr>\n",
              "      <th>3</th>\n",
              "      <td>hypothyroid</td>\n",
              "      <td>24</td>\n",
              "      <td>F</td>\n",
              "      <td>f</td>\n",
              "      <td>f</td>\n",
              "      <td>f</td>\n",
              "      <td>f</td>\n",
              "      <td>f</td>\n",
              "      <td>f</td>\n",
              "      <td>f</td>\n",
              "      <td>f</td>\n",
              "      <td>f</td>\n",
              "      <td>f</td>\n",
              "      <td>f</td>\n",
              "      <td>y</td>\n",
              "      <td>430</td>\n",
              "      <td>y</td>\n",
              "      <td>0.40</td>\n",
              "      <td>y</td>\n",
              "      <td>6</td>\n",
              "      <td>y</td>\n",
              "      <td>1.04</td>\n",
              "      <td>y</td>\n",
              "      <td>6</td>\n",
              "      <td>n</td>\n",
              "      <td>?</td>\n",
              "    </tr>\n",
              "    <tr>\n",
              "      <th>4</th>\n",
              "      <td>hypothyroid</td>\n",
              "      <td>77</td>\n",
              "      <td>M</td>\n",
              "      <td>f</td>\n",
              "      <td>f</td>\n",
              "      <td>f</td>\n",
              "      <td>f</td>\n",
              "      <td>f</td>\n",
              "      <td>f</td>\n",
              "      <td>f</td>\n",
              "      <td>f</td>\n",
              "      <td>f</td>\n",
              "      <td>f</td>\n",
              "      <td>f</td>\n",
              "      <td>y</td>\n",
              "      <td>7.30</td>\n",
              "      <td>y</td>\n",
              "      <td>1.20</td>\n",
              "      <td>y</td>\n",
              "      <td>57</td>\n",
              "      <td>y</td>\n",
              "      <td>1.28</td>\n",
              "      <td>y</td>\n",
              "      <td>44</td>\n",
              "      <td>n</td>\n",
              "      <td>?</td>\n",
              "    </tr>\n",
              "    <tr>\n",
              "      <th>...</th>\n",
              "      <td>...</td>\n",
              "      <td>...</td>\n",
              "      <td>...</td>\n",
              "      <td>...</td>\n",
              "      <td>...</td>\n",
              "      <td>...</td>\n",
              "      <td>...</td>\n",
              "      <td>...</td>\n",
              "      <td>...</td>\n",
              "      <td>...</td>\n",
              "      <td>...</td>\n",
              "      <td>...</td>\n",
              "      <td>...</td>\n",
              "      <td>...</td>\n",
              "      <td>...</td>\n",
              "      <td>...</td>\n",
              "      <td>...</td>\n",
              "      <td>...</td>\n",
              "      <td>...</td>\n",
              "      <td>...</td>\n",
              "      <td>...</td>\n",
              "      <td>...</td>\n",
              "      <td>...</td>\n",
              "      <td>...</td>\n",
              "      <td>...</td>\n",
              "      <td>...</td>\n",
              "    </tr>\n",
              "    <tr>\n",
              "      <th>3158</th>\n",
              "      <td>negative</td>\n",
              "      <td>58</td>\n",
              "      <td>F</td>\n",
              "      <td>f</td>\n",
              "      <td>f</td>\n",
              "      <td>f</td>\n",
              "      <td>f</td>\n",
              "      <td>f</td>\n",
              "      <td>f</td>\n",
              "      <td>f</td>\n",
              "      <td>f</td>\n",
              "      <td>f</td>\n",
              "      <td>f</td>\n",
              "      <td>f</td>\n",
              "      <td>y</td>\n",
              "      <td>5.80</td>\n",
              "      <td>y</td>\n",
              "      <td>1.70</td>\n",
              "      <td>y</td>\n",
              "      <td>86</td>\n",
              "      <td>y</td>\n",
              "      <td>0.91</td>\n",
              "      <td>y</td>\n",
              "      <td>95</td>\n",
              "      <td>n</td>\n",
              "      <td>?</td>\n",
              "    </tr>\n",
              "    <tr>\n",
              "      <th>3159</th>\n",
              "      <td>negative</td>\n",
              "      <td>29</td>\n",
              "      <td>F</td>\n",
              "      <td>f</td>\n",
              "      <td>f</td>\n",
              "      <td>f</td>\n",
              "      <td>f</td>\n",
              "      <td>f</td>\n",
              "      <td>f</td>\n",
              "      <td>f</td>\n",
              "      <td>f</td>\n",
              "      <td>f</td>\n",
              "      <td>f</td>\n",
              "      <td>f</td>\n",
              "      <td>y</td>\n",
              "      <td>0.80</td>\n",
              "      <td>y</td>\n",
              "      <td>1.80</td>\n",
              "      <td>y</td>\n",
              "      <td>99</td>\n",
              "      <td>y</td>\n",
              "      <td>1.01</td>\n",
              "      <td>y</td>\n",
              "      <td>98</td>\n",
              "      <td>n</td>\n",
              "      <td>?</td>\n",
              "    </tr>\n",
              "    <tr>\n",
              "      <th>3160</th>\n",
              "      <td>negative</td>\n",
              "      <td>77</td>\n",
              "      <td>M</td>\n",
              "      <td>f</td>\n",
              "      <td>f</td>\n",
              "      <td>f</td>\n",
              "      <td>f</td>\n",
              "      <td>f</td>\n",
              "      <td>f</td>\n",
              "      <td>f</td>\n",
              "      <td>f</td>\n",
              "      <td>f</td>\n",
              "      <td>f</td>\n",
              "      <td>f</td>\n",
              "      <td>y</td>\n",
              "      <td>1.20</td>\n",
              "      <td>y</td>\n",
              "      <td>0.60</td>\n",
              "      <td>y</td>\n",
              "      <td>71</td>\n",
              "      <td>y</td>\n",
              "      <td>0.68</td>\n",
              "      <td>y</td>\n",
              "      <td>104</td>\n",
              "      <td>n</td>\n",
              "      <td>?</td>\n",
              "    </tr>\n",
              "    <tr>\n",
              "      <th>3161</th>\n",
              "      <td>negative</td>\n",
              "      <td>74</td>\n",
              "      <td>F</td>\n",
              "      <td>f</td>\n",
              "      <td>f</td>\n",
              "      <td>f</td>\n",
              "      <td>f</td>\n",
              "      <td>f</td>\n",
              "      <td>f</td>\n",
              "      <td>f</td>\n",
              "      <td>f</td>\n",
              "      <td>f</td>\n",
              "      <td>f</td>\n",
              "      <td>f</td>\n",
              "      <td>y</td>\n",
              "      <td>1.30</td>\n",
              "      <td>y</td>\n",
              "      <td>0.10</td>\n",
              "      <td>y</td>\n",
              "      <td>65</td>\n",
              "      <td>y</td>\n",
              "      <td>0.48</td>\n",
              "      <td>y</td>\n",
              "      <td>137</td>\n",
              "      <td>n</td>\n",
              "      <td>?</td>\n",
              "    </tr>\n",
              "    <tr>\n",
              "      <th>3162</th>\n",
              "      <td>negative</td>\n",
              "      <td>56</td>\n",
              "      <td>F</td>\n",
              "      <td>t</td>\n",
              "      <td>f</td>\n",
              "      <td>f</td>\n",
              "      <td>f</td>\n",
              "      <td>f</td>\n",
              "      <td>f</td>\n",
              "      <td>f</td>\n",
              "      <td>f</td>\n",
              "      <td>f</td>\n",
              "      <td>f</td>\n",
              "      <td>f</td>\n",
              "      <td>y</td>\n",
              "      <td>0</td>\n",
              "      <td>y</td>\n",
              "      <td>1.80</td>\n",
              "      <td>y</td>\n",
              "      <td>139</td>\n",
              "      <td>y</td>\n",
              "      <td>0.97</td>\n",
              "      <td>y</td>\n",
              "      <td>143</td>\n",
              "      <td>n</td>\n",
              "      <td>?</td>\n",
              "    </tr>\n",
              "  </tbody>\n",
              "</table>\n",
              "<p>3086 rows × 26 columns</p>\n",
              "</div>"
            ],
            "text/plain": [
              "           status age sex on_thyroxine query_on_thyroxine  \\\n",
              "0     hypothyroid  72   M            f                  f   \n",
              "1     hypothyroid  15   F            t                  f   \n",
              "2     hypothyroid  24   M            f                  f   \n",
              "3     hypothyroid  24   F            f                  f   \n",
              "4     hypothyroid  77   M            f                  f   \n",
              "...           ...  ..  ..          ...                ...   \n",
              "3158     negative  58   F            f                  f   \n",
              "3159     negative  29   F            f                  f   \n",
              "3160     negative  77   M            f                  f   \n",
              "3161     negative  74   F            f                  f   \n",
              "3162     negative  56   F            t                  f   \n",
              "\n",
              "     on_antithyroid_medication thyroid_surgery query_hypothyroid  \\\n",
              "0                            f               f                 f   \n",
              "1                            f               f                 f   \n",
              "2                            f               f                 f   \n",
              "3                            f               f                 f   \n",
              "4                            f               f                 f   \n",
              "...                        ...             ...               ...   \n",
              "3158                         f               f                 f   \n",
              "3159                         f               f                 f   \n",
              "3160                         f               f                 f   \n",
              "3161                         f               f                 f   \n",
              "3162                         f               f                 f   \n",
              "\n",
              "     query_hyperthyroid pregnant sick tumor lithium goitre TSH_measured   TSH  \\\n",
              "0                     f        f    f     f       f      f            y    30   \n",
              "1                     f        f    f     f       f      f            y   145   \n",
              "2                     f        f    f     f       f      f            y     0   \n",
              "3                     f        f    f     f       f      f            y   430   \n",
              "4                     f        f    f     f       f      f            y  7.30   \n",
              "...                 ...      ...  ...   ...     ...    ...          ...   ...   \n",
              "3158                  f        f    f     f       f      f            y  5.80   \n",
              "3159                  f        f    f     f       f      f            y  0.80   \n",
              "3160                  f        f    f     f       f      f            y  1.20   \n",
              "3161                  f        f    f     f       f      f            y  1.30   \n",
              "3162                  f        f    f     f       f      f            y     0   \n",
              "\n",
              "     T3_measured    T3 TT4_measured  TT4 T4U_measured   T4U FTI_measured  FTI  \\\n",
              "0              y  0.60            y   15            y  1.48            y   10   \n",
              "1              y  1.70            y   19            y  1.13            y   17   \n",
              "2              y  0.20            y    4            y     1            y    0   \n",
              "3              y  0.40            y    6            y  1.04            y    6   \n",
              "4              y  1.20            y   57            y  1.28            y   44   \n",
              "...          ...   ...          ...  ...          ...   ...          ...  ...   \n",
              "3158           y  1.70            y   86            y  0.91            y   95   \n",
              "3159           y  1.80            y   99            y  1.01            y   98   \n",
              "3160           y  0.60            y   71            y  0.68            y  104   \n",
              "3161           y  0.10            y   65            y  0.48            y  137   \n",
              "3162           y  1.80            y  139            y  0.97            y  143   \n",
              "\n",
              "     TBG_measured TBG  \n",
              "0               n   ?  \n",
              "1               n   ?  \n",
              "2               n   ?  \n",
              "3               n   ?  \n",
              "4               n   ?  \n",
              "...           ...  ..  \n",
              "3158            n   ?  \n",
              "3159            n   ?  \n",
              "3160            n   ?  \n",
              "3161            n   ?  \n",
              "3162            n   ?  \n",
              "\n",
              "[3086 rows x 26 columns]"
            ]
          },
          "metadata": {
            "tags": []
          },
          "execution_count": 117
        }
      ]
    },
    {
      "cell_type": "code",
      "metadata": {
        "id": "KQR0Q2i3qLAQ",
        "colab_type": "code",
        "outputId": "8d20af27-262a-456a-fc14-8ca5f745681f",
        "colab": {
          "base_uri": "https://localhost:8080/",
          "height": 476
        }
      },
      "source": [
        "# Checking for null values\n",
        "\n",
        "thyroid.isna().sum()"
      ],
      "execution_count": 118,
      "outputs": [
        {
          "output_type": "execute_result",
          "data": {
            "text/plain": [
              "status                       0\n",
              "age                          0\n",
              "sex                          0\n",
              "on_thyroxine                 0\n",
              "query_on_thyroxine           0\n",
              "on_antithyroid_medication    0\n",
              "thyroid_surgery              0\n",
              "query_hypothyroid            0\n",
              "query_hyperthyroid           0\n",
              "pregnant                     0\n",
              "sick                         0\n",
              "tumor                        0\n",
              "lithium                      0\n",
              "goitre                       0\n",
              "TSH_measured                 0\n",
              "TSH                          0\n",
              "T3_measured                  0\n",
              "T3                           0\n",
              "TT4_measured                 0\n",
              "TT4                          0\n",
              "T4U_measured                 0\n",
              "T4U                          0\n",
              "FTI_measured                 0\n",
              "FTI                          0\n",
              "TBG_measured                 0\n",
              "TBG                          0\n",
              "dtype: int64"
            ]
          },
          "metadata": {
            "tags": []
          },
          "execution_count": 118
        }
      ]
    },
    {
      "cell_type": "code",
      "metadata": {
        "id": "XnXc625GqTKX",
        "colab_type": "code",
        "colab": {}
      },
      "source": [
        "# Changing the datatypes of our columns\n",
        "\n",
        "le = LabelEncoder()\n",
        "\n",
        "thyroid['sex'] = le.fit_transform(thyroid['sex'])\n",
        "thyroid['on_thyroxine']= le.fit_transform(thyroid['on_thyroxine'])\n",
        "thyroid['query_on_thyroxine']= le.fit_transform(thyroid['query_on_thyroxine'])\n",
        "thyroid['on_antithyroid_medication']= le.fit_transform(thyroid['on_antithyroid_medication'])\n",
        "thyroid['thyroid_surgery']= le.fit_transform(thyroid['thyroid_surgery'])\n",
        "thyroid['query_hypothyroid']= le.fit_transform(thyroid['query_hyperthyroid'])\n",
        "thyroid['query_hyperthyroid'] = le.fit_transform(thyroid['query_hyperthyroid'])\n",
        "thyroid['pregnant']= le.fit_transform(thyroid['pregnant'])\n",
        "thyroid['sick']= le.fit_transform(thyroid['sick'])\n",
        "thyroid['tumor']= le.fit_transform(thyroid['tumor'])\n",
        "thyroid['lithium']= le.fit_transform(thyroid['lithium'])\n",
        "thyroid['goitre']= le.fit_transform(thyroid['goitre'])\n",
        "thyroid['TSH_measured']= le.fit_transform(thyroid['TSH_measured'])\n",
        "thyroid['T3_measured']= le.fit_transform(thyroid['T3_measured'])\n",
        "thyroid['T4U_measured']= le.fit_transform(thyroid['T4U_measured'])\n",
        "thyroid['FTI_measured']= le.fit_transform(thyroid['FTI_measured'])\n",
        "thyroid['TBG_measured']= le.fit_transform(thyroid['TBG_measured'])\n",
        "thyroid['TT4_measured']= le.fit_transform(thyroid['TT4_measured'])\n",
        "\n"
      ],
      "execution_count": 0,
      "outputs": []
    },
    {
      "cell_type": "code",
      "metadata": {
        "id": "zKBdTUXar_Mi",
        "colab_type": "code",
        "outputId": "f6b36886-3ca6-4b7d-dbfb-e3621273c7d6",
        "colab": {
          "base_uri": "https://localhost:8080/",
          "height": 170
        }
      },
      "source": [
        "# Checking the unique values in the columns with non-numerical values\n",
        "\n",
        "thyroid['age'].unique()"
      ],
      "execution_count": 120,
      "outputs": [
        {
          "output_type": "execute_result",
          "data": {
            "text/plain": [
              "array(['72', '15', '24', '77', '85', '64', '20', '42', '69', '75', '53',\n",
              "       '59', '68', '50', '78', '65', '28', '43', '40', '84', '?', '83',\n",
              "       '63', '73', '36', '27', '48', '71', '60', '34', '79', '62', '74',\n",
              "       '32', '41', '70', '29', '5', '58', '35', '51', '22', '16', '44',\n",
              "       '39', '47', '18', '17', '88', '56', '30', '45', '66', '52', '54',\n",
              "       '80', '33', '38', '92', '67', '46', '13', '89', '61', '49', '26',\n",
              "       '57', '31', '90', '81', '25', '37', '76', '87', '23', '55', '86',\n",
              "       '98', '21', '97', '1', '6', '14', '82', '11', '19', '9', '12',\n",
              "       '10', '8', '7', '4', '93'], dtype=object)"
            ]
          },
          "metadata": {
            "tags": []
          },
          "execution_count": 120
        }
      ]
    },
    {
      "cell_type": "code",
      "metadata": {
        "id": "jYcpTaT9ZhR2",
        "colab_type": "code",
        "colab": {
          "base_uri": "https://localhost:8080/",
          "height": 34
        },
        "outputId": "88e5ff7e-bdf9-48ac-e289-50071a10db6f"
      },
      "source": [
        "thyroid['status'].unique()"
      ],
      "execution_count": 121,
      "outputs": [
        {
          "output_type": "execute_result",
          "data": {
            "text/plain": [
              "array(['hypothyroid', 'negative'], dtype=object)"
            ]
          },
          "metadata": {
            "tags": []
          },
          "execution_count": 121
        }
      ]
    },
    {
      "cell_type": "code",
      "metadata": {
        "id": "g29r1HNhZtTR",
        "colab_type": "code",
        "colab": {
          "base_uri": "https://localhost:8080/",
          "height": 34
        },
        "outputId": "c233f252-9bbe-4944-f51f-dc745546ba19"
      },
      "source": [
        "thyroid['sex'].unique()"
      ],
      "execution_count": 122,
      "outputs": [
        {
          "output_type": "execute_result",
          "data": {
            "text/plain": [
              "array([2, 1, 0])"
            ]
          },
          "metadata": {
            "tags": []
          },
          "execution_count": 122
        }
      ]
    },
    {
      "cell_type": "code",
      "metadata": {
        "id": "fTw1gI_3asMB",
        "colab_type": "code",
        "colab": {
          "base_uri": "https://localhost:8080/",
          "height": 493
        },
        "outputId": "1943d11e-0be3-4155-8f5d-d9a8e8afd9eb"
      },
      "source": [
        "thyroid['TSH'].unique()"
      ],
      "execution_count": 123,
      "outputs": [
        {
          "output_type": "execute_result",
          "data": {
            "text/plain": [
              "array(['30', '145', '0', '430', '7.30', '138', '7.70', '21', '92', '48',\n",
              "       '36', '15', '15.30', '25', '61', '28', '170', '54', '216', '56',\n",
              "       '71', '46', '70', '34', '53', '9.40', '126', '10', '530', '35',\n",
              "       '65', '57', '125', '23', '80', '117', '49', '66', '8.20', '150',\n",
              "       '?', '18', '165', '164', '24', '90', '77', '19', '58', '100',\n",
              "       '213', '17', '235', '153', '13', '31', '109', '260', '43', '12',\n",
              "       '11', '55', '6.50', '20', '7.50', '14', '60', '140', '33', '8.70',\n",
              "       '0.25', '10.70', '82', '45', '42', '41', '160', '16', '89', '44',\n",
              "       '176', '6.40', '183', '29', '37', '39', '7.90', '59', '68', '38',\n",
              "       '47', '143', '6.60', '288', '96', '0.50', '1.20', '1.90', '0.09',\n",
              "       '3.10', '0.40', '0.85', '0.30', '0.90', '1.50', '4.60', '0.20',\n",
              "       '5.80', '4', '1.40', '2', '2.60', '2.90', '0.80', '4.90', '10.30',\n",
              "       '2.30', '0.70', '0.60', '1.30', '2.50', '5.10', '1.70', '2.70',\n",
              "       '22', '8.10', '3.30', '5', '3.20', '1.80', '1.10', '0.46', '1',\n",
              "       '5.60', '4.40', '16.50', '2.10', '6.30', '5.50', '7.40', '5.90',\n",
              "       '0.15', '14.90', '2.20', '9.70', '9.60', '1.60', '3.70', '3',\n",
              "       '2.80', '0.10', '4.20', '27', '3.50', '0.05', '19.20', '8', '9.10',\n",
              "       '3.60', '7.80', '3.80', '8.50', '9.20', '52', '2.40', '3.90',\n",
              "       '0.03', '0.04', '26', '6.10', '0.65', '0.92', '7.60', '8.40',\n",
              "       '14.40', '1.05', '0.37', '178', '6.90', '4.50', '4.70', '40', '6',\n",
              "       '4.10', '14.30', '5.40', '8.30', '0.06', '8.80', '8.90', '7.10',\n",
              "       '4.80', '0.43', '6.70', '200', '8.60', '86', '0.21', '9', '0.26',\n",
              "       '3.40', '6.20', '17.40', '85', '1.83', '63', '13.30', '0.02',\n",
              "       '0.42', '9.50', '0.84', '0.88', '4.30', '0.67', '0.81', '5.20',\n",
              "       '9.80', '76', '0.62', '0.01', '11.40', '88', '0.68', '0.07',\n",
              "       '0.69', '0.77', '9.90', '0.64', '13.20', '6.80', '0.28', '11.60',\n",
              "       '0.91', '1.01', '0.23', '0.35', '50', '32', '0.83', '0.08'],\n",
              "      dtype=object)"
            ]
          },
          "metadata": {
            "tags": []
          },
          "execution_count": 123
        }
      ]
    },
    {
      "cell_type": "code",
      "metadata": {
        "id": "cgJzBZb3a3Sc",
        "colab_type": "code",
        "colab": {
          "base_uri": "https://localhost:8080/",
          "height": 527
        },
        "outputId": "eed32542-8cdf-4bed-e2b7-46b2f247c913"
      },
      "source": [
        "thyroid['FTI'].unique()"
      ],
      "execution_count": 124,
      "outputs": [
        {
          "output_type": "execute_result",
          "data": {
            "text/plain": [
              "array(['10', '17', '0', '6', '44', '23', '63', '32', '7.50', '61', '41',\n",
              "       '76', '45', '34', '81', '11', '16', '46', '22', '12', '5', '47',\n",
              "       '29', '37', '60', '8.40', '8.50', '24', '28', '7', '49', '36',\n",
              "       '15', '9', '80', '53', '7.20', '68', '6.60', '48', '21', '14', '2',\n",
              "       '20', '1.40', '56', '3', '51', '13', '43', '78', '52', '64', '26',\n",
              "       '35', '31', '133', '3.40', '54', '8.90', '57', '5.50', '58', '55',\n",
              "       '2.80', '66', '4', '40', '50', '8.70', '87', '89', '112', '123',\n",
              "       '99', '92', '104', '69', '196', '107', '106', '74', '97', '?',\n",
              "       '122', '84', '114', '124', '241', '119', '120', '136', '85', '127',\n",
              "       '839', '137', '197', '96', '77', '108', '82', '72', '94', '91',\n",
              "       '240', '121', '109', '79', '100', '98', '73', '117', '165', '103',\n",
              "       '88', '101', '126', '132', '128', '143', '152', '141', '186',\n",
              "       '113', '102', '125', '93', '105', '159', '188', '71', '149', '116',\n",
              "       '83', '176', '161', '86', '140', '111', '158', '115', '171', '90',\n",
              "       '95', '70', '135', '134', '178', '110', '170', '205', '695', '155',\n",
              "       '118', '741', '131', '129', '142', '153', '75', '254', '246',\n",
              "       '139', '185', '157', '147', '164', '130', '222', '650', '174',\n",
              "       '182', '144', '169', '257', '145', '345', '180', '167', '151',\n",
              "       '154', '150', '219', '228', '65', '187', '166', '195', '208',\n",
              "       '138', '33', '173', '146', '211', '181', '190', '247', '221',\n",
              "       '395', '216', '212', '148', '162', '220', '370', '450', '160',\n",
              "       '59', '189', '203', '168', '179', '264', '470', '184', '163', '67',\n",
              "       '213', '354', '292', '359', '172', '156', '334', '177', '214',\n",
              "       '194', '192', '215', '217', '271', '250', '244', '308', '881',\n",
              "       '258', '316', '200', '711', '256', '232', '202', '39', '248',\n",
              "       '237', '259', '445', '19', '852', '42', '235', '634', '283', '305',\n",
              "       '204', '229', '332', '550', '249', '263', '615', '266', '198',\n",
              "       '175', '209', '299', '193', '227', '223', '337', '210', '272',\n",
              "       '702', '218', '239', '355', '482', '347', '485', '612', '428'],\n",
              "      dtype=object)"
            ]
          },
          "metadata": {
            "tags": []
          },
          "execution_count": 124
        }
      ]
    },
    {
      "cell_type": "code",
      "metadata": {
        "id": "fA9lsYBDbCi5",
        "colab_type": "code",
        "colab": {
          "base_uri": "https://localhost:8080/",
          "height": 170
        },
        "outputId": "a1022eb4-ea9e-4dbd-a89c-a49ab29d6e8b"
      },
      "source": [
        "thyroid['T3'].unique()"
      ],
      "execution_count": 125,
      "outputs": [
        {
          "output_type": "execute_result",
          "data": {
            "text/plain": [
              "array(['0.60', '1.70', '0.20', '0.40', '1.20', '1.10', '1.30', '1.90',\n",
              "       '?', '0.80', '2.20', '1.50', '2.70', '2', '0.30', '2.10', '0.50',\n",
              "       '0.70', '1', '1.40', '2.30', '2.40', '0.90', '1.80', '0', '2.80',\n",
              "       '1.60', '6.70', '3.30', '3', '2.50', '2.60', '4', '9.80', '3.90',\n",
              "       '3.40', '3.80', '4.50', '3.20', '3.70', '4.30', '2.90', '3.10',\n",
              "       '3.50', '3.60', '6.60', '4.90', '8.90', '4.10', '5', '5.30',\n",
              "       '7.60', '7.30', '4.20', '4.40', '5.10', '7', '0.10', '0.05',\n",
              "       '4.70', '6.20', '5.50', '4.60', '6.10', '8.10', '5.20', '5.60',\n",
              "       '4.80', '10.20', '8.60'], dtype=object)"
            ]
          },
          "metadata": {
            "tags": []
          },
          "execution_count": 125
        }
      ]
    },
    {
      "cell_type": "code",
      "metadata": {
        "id": "SgcpWsw2bN3P",
        "colab_type": "code",
        "colab": {
          "base_uri": "https://localhost:8080/",
          "height": 357
        },
        "outputId": "ada3c7c6-43c3-427e-99b0-c546a67e286e"
      },
      "source": [
        "thyroid['T4U'].unique()"
      ],
      "execution_count": 126,
      "outputs": [
        {
          "output_type": "execute_result",
          "data": {
            "text/plain": [
              "array(['1.48', '1.13', '1', '1.04', '1.28', '1.19', '0.86', '1.05',\n",
              "       '1.21', '1.02', '0.92', '1.29', '0.98', '1.08', '1.01', '1.18',\n",
              "       '1.10', '1.27', '0.83', '1.11', '0.78', '1.39', '1.12', '0.93',\n",
              "       '0.99', '0.90', '1.06', '0.68', '0.67', '1.14', '0.80', '0.96',\n",
              "       '0.95', '1.46', '1.03', '0.97', '0.94', '1.09', '1.24', '1.23',\n",
              "       '1.53', '1.26', '1.40', '1.17', '0.87', '0.61', '0.70', '1.07',\n",
              "       '1.73', '1.45', '1.20', '0.89', '0.84', '0.91', '0.85', '1.35',\n",
              "       '0.82', '1.50', '0.74', '1.71', '1.79', '0.73', '0.77', '1.25',\n",
              "       '?', '0.88', '0.72', '0.31', '0', '0.79', '0.81', '0.71', '1.93',\n",
              "       '1.32', '0.66', '1.68', '1.42', '1.70', '1.83', '1.41', '1.34',\n",
              "       '1.65', '1.22', '0.75', '1.74', '0.69', '1.51', '0.76', '1.16',\n",
              "       '0.35', '0.62', '0.54', '1.36', '1.33', '1.30', '0.48', '1.59',\n",
              "       '1.75', '1.86', '1.38', '1.43', '1.62', '2.01', '0.30', '1.31',\n",
              "       '1.15', '1.57', '0.55', '1.66', '0.52', '1.97', '1.47', '0.36',\n",
              "       '1.88', '1.55', '0.34', '1.67', '0.58', '0.60', '0.59', '1.37',\n",
              "       '1.76', '0.64', '1.80', '0.41', '0.20', '1.77', '0.33', '1.54',\n",
              "       '0.46', '0.32', '1.44', '1.56', '0.56', '1.52', '2.03', '0.65',\n",
              "       '0.63', '1.96', '0.53', '0.47', '0.29', '2.21', '1.69', '1.64',\n",
              "       '1.49', '1.72', '1.58', '0.57', '1.61', '0.28', '2', '1.63',\n",
              "       '0.27', '1.94', '0.50', '0.49', '0.40', '0.38'], dtype=object)"
            ]
          },
          "metadata": {
            "tags": []
          },
          "execution_count": 126
        }
      ]
    },
    {
      "cell_type": "code",
      "metadata": {
        "id": "Gt5TGmxibWQE",
        "colab_type": "code",
        "colab": {
          "base_uri": "https://localhost:8080/",
          "height": 510
        },
        "outputId": "bea816d0-9aef-4045-e8e1-cb878b3b5b9a"
      },
      "source": [
        "thyroid['TT4'].unique()"
      ],
      "execution_count": 127,
      "outputs": [
        {
          "output_type": "execute_result",
          "data": {
            "text/plain": [
              "array(['15', '19', '4', '6', '57', '27', '54', '34', '39', '7.60', '53',\n",
              "       '38', '98', '44', '37', '81', '13', '17', '12', '50', '23', '14',\n",
              "       '3.90', '52', '32', '30', '84', '10', '55', '24', '28', '11',\n",
              "       '6.60', '31', '33', '41', '9', '78', '42', '8.10', '65', '16',\n",
              "       '9.70', '46', '22', '61', '2.30', '21', '7.50', '18', '66', '25',\n",
              "       '43', '2', '3', '58', '59', '71', '74', '56', '40', '20', '48',\n",
              "       '230', '70', '4.10', '63', '5.30', '2.90', '62', '75', '68', '45',\n",
              "       '47', '36', '80', '109', '8.60', '83', '82', '101', '76', '103',\n",
              "       '112', '206', '110', '93', '79', '121', '?', '107', '88', '187',\n",
              "       '254', '115', '113', '260', '117', '164', '97', '64', '129', '111',\n",
              "       '106', '95', '87', '105', '90', '67', '134', '35', '193', '143',\n",
              "       '130', '108', '86', '96', '92', '99', '216', '152', '125', '138',\n",
              "       '194', '91', '120', '102', '170', '126', '116', '140', '94', '159',\n",
              "       '85', '210', '89', '151', '247', '139', '153', '178', '123', '137',\n",
              "       '161', '7.30', '72', '202', '122', '124', '157', '118', '104',\n",
              "       '135', '186', '241', '131', '119', '100', '220', '176', '136',\n",
              "       '183', '155', '208', '199', '154', '169', '128', '235', '195',\n",
              "       '267', '232', '197', '212', '149', '127', '245', '132', '162',\n",
              "       '77', '142', '69', '173', '141', '156', '181', '189', '60', '114',\n",
              "       '198', '147', '191', '177', '174', '207', '168', '73', '160',\n",
              "       '145', '200', '182', '158', '203', '209', '217', '430', '213',\n",
              "       '218', '163', '296', '167', '148', '166', '185', '248', '172',\n",
              "       '144', '150', '165', '196', '308', '146', '426', '224', '29',\n",
              "       '204', '201', '133', '180', '184', '450', '244', '301', '255',\n",
              "       '252', '396', '223', '261', '250', '179', '219', '190', '51',\n",
              "       '221', '171', '242', '275', '211', '49', '239', '205', '222',\n",
              "       '256', '214', '282', '287', '253', '269', '175', '228', '333',\n",
              "       '258', '236', '225', '263', '283', '359', '188', '240'],\n",
              "      dtype=object)"
            ]
          },
          "metadata": {
            "tags": []
          },
          "execution_count": 127
        }
      ]
    },
    {
      "cell_type": "code",
      "metadata": {
        "id": "SGKxrgCIbhLC",
        "colab_type": "code",
        "colab": {
          "base_uri": "https://localhost:8080/",
          "height": 119
        },
        "outputId": "8bf41127-31b6-4956-8457-88f626eaee7b"
      },
      "source": [
        "thyroid['TBG'].unique()"
      ],
      "execution_count": 128,
      "outputs": [
        {
          "output_type": "execute_result",
          "data": {
            "text/plain": [
              "array(['?', '28', '34', '0', '19', '30', '25', '48', '39', '31', '16',\n",
              "       '21', '37', '40', '27', '3.10', '38', '108', '20', '36', '17',\n",
              "       '23', '35', '32', '63', '9.30', '15', '26', '33', '41', '110',\n",
              "       '22', '43', '53', '80', '47', '29', '13', '24', '18', '45', '86',\n",
              "       '50', '8.40', '52', '11', '12', '14', '65', '7.30', '8.50', '69',\n",
              "       '122'], dtype=object)"
            ]
          },
          "metadata": {
            "tags": []
          },
          "execution_count": 128
        }
      ]
    },
    {
      "cell_type": "code",
      "metadata": {
        "id": "ACKfnvNWcoA5",
        "colab_type": "code",
        "colab": {
          "base_uri": "https://localhost:8080/",
          "height": 34
        },
        "outputId": "8a0b9216-e072-47fe-9322-51c35bfd8f5c"
      },
      "source": [
        "#We will use length to calculate the number of columns with the question mark.\n",
        "len(thyroid.loc[(thyroid['TSH'] =='?')\n",
        "|\n",
        "(thyroid['TSH']  =='?')\n",
        "|\n",
        "(thyroid['T3']  =='?')\n",
        "|\n",
        "(thyroid['age']  =='?')\n",
        "|\n",
        "(thyroid['TT4']  =='?')\n",
        "|            \n",
        "(thyroid['T4U']  =='?')\n",
        "|             \n",
        "(thyroid['FTI']  =='?')\n",
        "|\n",
        "(thyroid['TBG']  =='?')])"
      ],
      "execution_count": 129,
      "outputs": [
        {
          "output_type": "execute_result",
          "data": {
            "text/plain": [
              "3161"
            ]
          },
          "metadata": {
            "tags": []
          },
          "execution_count": 129
        }
      ]
    },
    {
      "cell_type": "markdown",
      "metadata": {
        "id": "Fjcawrs9mnO8",
        "colab_type": "text"
      },
      "source": [
        "This shows us that 3161 out of 3163 rows have question marks as unique values. That makes up for almost our whole dataset, hence we cannot drop them"
      ]
    },
    {
      "cell_type": "code",
      "metadata": {
        "id": "EwNueyAPmjhV",
        "colab_type": "code",
        "colab": {}
      },
      "source": [
        "#To verify the validity of the statement above, we will run to get the columns without the (?)\n",
        "df = thyroid.loc[(thyroid['TSH'] !='?')\n",
        "&\n",
        "(thyroid['TSH']  !='?')\n",
        "&\n",
        "(thyroid['T3']  !='?')\n",
        "&\n",
        "(thyroid['age']  !='?')\n",
        "&\n",
        "(thyroid['TT4']  !='?')\n",
        "&           \n",
        "(thyroid['T4U']  !='?')\n",
        "&             \n",
        "(thyroid['FTI']  !='?')\n",
        "&\n",
        "(thyroid['TBG']  !='?')]"
      ],
      "execution_count": 0,
      "outputs": []
    },
    {
      "cell_type": "code",
      "metadata": {
        "id": "oSWXVpEAzh42",
        "colab_type": "code",
        "colab": {
          "base_uri": "https://localhost:8080/",
          "height": 131
        },
        "outputId": "5a2ba8ed-5948-4912-ee37-adc7178ef06a"
      },
      "source": [
        "# Previewing the dataset without (?)\n",
        "\n",
        "df"
      ],
      "execution_count": 142,
      "outputs": [
        {
          "output_type": "execute_result",
          "data": {
            "text/html": [
              "<div>\n",
              "<style scoped>\n",
              "    .dataframe tbody tr th:only-of-type {\n",
              "        vertical-align: middle;\n",
              "    }\n",
              "\n",
              "    .dataframe tbody tr th {\n",
              "        vertical-align: top;\n",
              "    }\n",
              "\n",
              "    .dataframe thead th {\n",
              "        text-align: right;\n",
              "    }\n",
              "</style>\n",
              "<table border=\"1\" class=\"dataframe\">\n",
              "  <thead>\n",
              "    <tr style=\"text-align: right;\">\n",
              "      <th></th>\n",
              "      <th>status</th>\n",
              "      <th>age</th>\n",
              "      <th>sex</th>\n",
              "      <th>on_thyroxine</th>\n",
              "      <th>query_on_thyroxine</th>\n",
              "      <th>on_antithyroid_medication</th>\n",
              "      <th>thyroid_surgery</th>\n",
              "      <th>query_hypothyroid</th>\n",
              "      <th>query_hyperthyroid</th>\n",
              "      <th>pregnant</th>\n",
              "      <th>sick</th>\n",
              "      <th>tumor</th>\n",
              "      <th>lithium</th>\n",
              "      <th>goitre</th>\n",
              "      <th>TSH_measured</th>\n",
              "      <th>TSH</th>\n",
              "      <th>T3_measured</th>\n",
              "      <th>T3</th>\n",
              "      <th>TT4_measured</th>\n",
              "      <th>TT4</th>\n",
              "      <th>T4U_measured</th>\n",
              "      <th>T4U</th>\n",
              "      <th>FTI_measured</th>\n",
              "      <th>FTI</th>\n",
              "      <th>TBG_measured</th>\n",
              "      <th>TBG</th>\n",
              "    </tr>\n",
              "  </thead>\n",
              "  <tbody>\n",
              "    <tr>\n",
              "      <th>24</th>\n",
              "      <td>hypothyroid</td>\n",
              "      <td>40</td>\n",
              "      <td>1</td>\n",
              "      <td>0</td>\n",
              "      <td>0</td>\n",
              "      <td>0</td>\n",
              "      <td>0</td>\n",
              "      <td>0</td>\n",
              "      <td>0</td>\n",
              "      <td>0</td>\n",
              "      <td>0</td>\n",
              "      <td>0</td>\n",
              "      <td>0</td>\n",
              "      <td>0</td>\n",
              "      <td>1</td>\n",
              "      <td>70</td>\n",
              "      <td>1</td>\n",
              "      <td>0.40</td>\n",
              "      <td>y</td>\n",
              "      <td>3.90</td>\n",
              "      <td>1</td>\n",
              "      <td>0.83</td>\n",
              "      <td>1</td>\n",
              "      <td>5</td>\n",
              "      <td>1</td>\n",
              "      <td>28</td>\n",
              "    </tr>\n",
              "    <tr>\n",
              "      <th>37</th>\n",
              "      <td>hypothyroid</td>\n",
              "      <td>40</td>\n",
              "      <td>1</td>\n",
              "      <td>0</td>\n",
              "      <td>0</td>\n",
              "      <td>0</td>\n",
              "      <td>0</td>\n",
              "      <td>0</td>\n",
              "      <td>0</td>\n",
              "      <td>0</td>\n",
              "      <td>0</td>\n",
              "      <td>0</td>\n",
              "      <td>0</td>\n",
              "      <td>0</td>\n",
              "      <td>1</td>\n",
              "      <td>30</td>\n",
              "      <td>1</td>\n",
              "      <td>0.30</td>\n",
              "      <td>y</td>\n",
              "      <td>6.60</td>\n",
              "      <td>1</td>\n",
              "      <td>0.93</td>\n",
              "      <td>1</td>\n",
              "      <td>7</td>\n",
              "      <td>1</td>\n",
              "      <td>28</td>\n",
              "    </tr>\n",
              "  </tbody>\n",
              "</table>\n",
              "</div>"
            ],
            "text/plain": [
              "         status age  sex  on_thyroxine  query_on_thyroxine  \\\n",
              "24  hypothyroid  40    1             0                   0   \n",
              "37  hypothyroid  40    1             0                   0   \n",
              "\n",
              "    on_antithyroid_medication  thyroid_surgery  query_hypothyroid  \\\n",
              "24                          0                0                  0   \n",
              "37                          0                0                  0   \n",
              "\n",
              "    query_hyperthyroid  pregnant  sick  tumor  lithium  goitre  TSH_measured  \\\n",
              "24                   0         0     0      0        0       0             1   \n",
              "37                   0         0     0      0        0       0             1   \n",
              "\n",
              "   TSH  T3_measured    T3 TT4_measured   TT4  T4U_measured   T4U  \\\n",
              "24  70            1  0.40            y  3.90             1  0.83   \n",
              "37  30            1  0.30            y  6.60             1  0.93   \n",
              "\n",
              "    FTI_measured FTI  TBG_measured TBG  \n",
              "24             1   5             1  28  \n",
              "37             1   7             1  28  "
            ]
          },
          "metadata": {
            "tags": []
          },
          "execution_count": 142
        }
      ]
    },
    {
      "cell_type": "code",
      "metadata": {
        "id": "ga-R4aOh5aqd",
        "colab_type": "code",
        "colab": {}
      },
      "source": [
        "# Dropping the columns with (?) as unique values\n",
        " \n",
        "data = thyroid.drop(['TSH', 'T3', 'TT4', 'T4U', 'FTI', 'TBG'], axis=1)"
      ],
      "execution_count": 0,
      "outputs": []
    },
    {
      "cell_type": "code",
      "metadata": {
        "id": "0dQuhAHe7IES",
        "colab_type": "code",
        "colab": {
          "base_uri": "https://localhost:8080/",
          "height": 224
        },
        "outputId": "41168dae-8175-4bbe-cadc-8e18569e5e42"
      },
      "source": [
        "# Previewing our dataset with dropped columns\n",
        "data.head()"
      ],
      "execution_count": 144,
      "outputs": [
        {
          "output_type": "execute_result",
          "data": {
            "text/html": [
              "<div>\n",
              "<style scoped>\n",
              "    .dataframe tbody tr th:only-of-type {\n",
              "        vertical-align: middle;\n",
              "    }\n",
              "\n",
              "    .dataframe tbody tr th {\n",
              "        vertical-align: top;\n",
              "    }\n",
              "\n",
              "    .dataframe thead th {\n",
              "        text-align: right;\n",
              "    }\n",
              "</style>\n",
              "<table border=\"1\" class=\"dataframe\">\n",
              "  <thead>\n",
              "    <tr style=\"text-align: right;\">\n",
              "      <th></th>\n",
              "      <th>status</th>\n",
              "      <th>age</th>\n",
              "      <th>sex</th>\n",
              "      <th>on_thyroxine</th>\n",
              "      <th>query_on_thyroxine</th>\n",
              "      <th>on_antithyroid_medication</th>\n",
              "      <th>thyroid_surgery</th>\n",
              "      <th>query_hypothyroid</th>\n",
              "      <th>query_hyperthyroid</th>\n",
              "      <th>pregnant</th>\n",
              "      <th>sick</th>\n",
              "      <th>tumor</th>\n",
              "      <th>lithium</th>\n",
              "      <th>goitre</th>\n",
              "      <th>TSH_measured</th>\n",
              "      <th>T3_measured</th>\n",
              "      <th>TT4_measured</th>\n",
              "      <th>T4U_measured</th>\n",
              "      <th>FTI_measured</th>\n",
              "      <th>TBG_measured</th>\n",
              "    </tr>\n",
              "  </thead>\n",
              "  <tbody>\n",
              "    <tr>\n",
              "      <th>0</th>\n",
              "      <td>hypothyroid</td>\n",
              "      <td>72</td>\n",
              "      <td>2</td>\n",
              "      <td>0</td>\n",
              "      <td>0</td>\n",
              "      <td>0</td>\n",
              "      <td>0</td>\n",
              "      <td>0</td>\n",
              "      <td>0</td>\n",
              "      <td>0</td>\n",
              "      <td>0</td>\n",
              "      <td>0</td>\n",
              "      <td>0</td>\n",
              "      <td>0</td>\n",
              "      <td>1</td>\n",
              "      <td>1</td>\n",
              "      <td>1</td>\n",
              "      <td>1</td>\n",
              "      <td>1</td>\n",
              "      <td>0</td>\n",
              "    </tr>\n",
              "    <tr>\n",
              "      <th>1</th>\n",
              "      <td>hypothyroid</td>\n",
              "      <td>15</td>\n",
              "      <td>1</td>\n",
              "      <td>1</td>\n",
              "      <td>0</td>\n",
              "      <td>0</td>\n",
              "      <td>0</td>\n",
              "      <td>0</td>\n",
              "      <td>0</td>\n",
              "      <td>0</td>\n",
              "      <td>0</td>\n",
              "      <td>0</td>\n",
              "      <td>0</td>\n",
              "      <td>0</td>\n",
              "      <td>1</td>\n",
              "      <td>1</td>\n",
              "      <td>1</td>\n",
              "      <td>1</td>\n",
              "      <td>1</td>\n",
              "      <td>0</td>\n",
              "    </tr>\n",
              "    <tr>\n",
              "      <th>2</th>\n",
              "      <td>hypothyroid</td>\n",
              "      <td>24</td>\n",
              "      <td>2</td>\n",
              "      <td>0</td>\n",
              "      <td>0</td>\n",
              "      <td>0</td>\n",
              "      <td>0</td>\n",
              "      <td>0</td>\n",
              "      <td>0</td>\n",
              "      <td>0</td>\n",
              "      <td>0</td>\n",
              "      <td>0</td>\n",
              "      <td>0</td>\n",
              "      <td>0</td>\n",
              "      <td>1</td>\n",
              "      <td>1</td>\n",
              "      <td>1</td>\n",
              "      <td>1</td>\n",
              "      <td>1</td>\n",
              "      <td>0</td>\n",
              "    </tr>\n",
              "    <tr>\n",
              "      <th>3</th>\n",
              "      <td>hypothyroid</td>\n",
              "      <td>24</td>\n",
              "      <td>1</td>\n",
              "      <td>0</td>\n",
              "      <td>0</td>\n",
              "      <td>0</td>\n",
              "      <td>0</td>\n",
              "      <td>0</td>\n",
              "      <td>0</td>\n",
              "      <td>0</td>\n",
              "      <td>0</td>\n",
              "      <td>0</td>\n",
              "      <td>0</td>\n",
              "      <td>0</td>\n",
              "      <td>1</td>\n",
              "      <td>1</td>\n",
              "      <td>1</td>\n",
              "      <td>1</td>\n",
              "      <td>1</td>\n",
              "      <td>0</td>\n",
              "    </tr>\n",
              "    <tr>\n",
              "      <th>4</th>\n",
              "      <td>hypothyroid</td>\n",
              "      <td>77</td>\n",
              "      <td>2</td>\n",
              "      <td>0</td>\n",
              "      <td>0</td>\n",
              "      <td>0</td>\n",
              "      <td>0</td>\n",
              "      <td>0</td>\n",
              "      <td>0</td>\n",
              "      <td>0</td>\n",
              "      <td>0</td>\n",
              "      <td>0</td>\n",
              "      <td>0</td>\n",
              "      <td>0</td>\n",
              "      <td>1</td>\n",
              "      <td>1</td>\n",
              "      <td>1</td>\n",
              "      <td>1</td>\n",
              "      <td>1</td>\n",
              "      <td>0</td>\n",
              "    </tr>\n",
              "  </tbody>\n",
              "</table>\n",
              "</div>"
            ],
            "text/plain": [
              "        status age  sex  on_thyroxine  query_on_thyroxine  \\\n",
              "0  hypothyroid  72    2             0                   0   \n",
              "1  hypothyroid  15    1             1                   0   \n",
              "2  hypothyroid  24    2             0                   0   \n",
              "3  hypothyroid  24    1             0                   0   \n",
              "4  hypothyroid  77    2             0                   0   \n",
              "\n",
              "   on_antithyroid_medication  thyroid_surgery  query_hypothyroid  \\\n",
              "0                          0                0                  0   \n",
              "1                          0                0                  0   \n",
              "2                          0                0                  0   \n",
              "3                          0                0                  0   \n",
              "4                          0                0                  0   \n",
              "\n",
              "   query_hyperthyroid  pregnant  sick  tumor  lithium  goitre  TSH_measured  \\\n",
              "0                   0         0     0      0        0       0             1   \n",
              "1                   0         0     0      0        0       0             1   \n",
              "2                   0         0     0      0        0       0             1   \n",
              "3                   0         0     0      0        0       0             1   \n",
              "4                   0         0     0      0        0       0             1   \n",
              "\n",
              "   T3_measured  TT4_measured  T4U_measured  FTI_measured  TBG_measured  \n",
              "0            1             1             1             1             0  \n",
              "1            1             1             1             1             0  \n",
              "2            1             1             1             1             0  \n",
              "3            1             1             1             1             0  \n",
              "4            1             1             1             1             0  "
            ]
          },
          "metadata": {
            "tags": []
          },
          "execution_count": 144
        }
      ]
    },
    {
      "cell_type": "code",
      "metadata": {
        "id": "lFEDhoh_DnKi",
        "colab_type": "code",
        "colab": {
          "base_uri": "https://localhost:8080/",
          "height": 51
        },
        "outputId": "bf3a1edf-5f93-42b3-ecf7-13d8c014c8d8"
      },
      "source": [
        "# Determining the number of samples we have lost after dropping columns and the percentage value\n",
        "\n",
        "lost = thyroid.shape[0] - data.shape[0]\n",
        "percent = (lost / thyroid.shape[0]) * 100\n",
        "print(\"Number of data samples lost: \", lost)\n",
        "print(\"Percent of data samples lost: \", round(percent, 2))"
      ],
      "execution_count": 179,
      "outputs": [
        {
          "output_type": "stream",
          "text": [
            "Number of data samples lost:  446\n",
            "Percent of data samples lost:  14.1\n"
          ],
          "name": "stdout"
        }
      ]
    },
    {
      "cell_type": "code",
      "metadata": {
        "id": "kRj-YhFS4poD",
        "colab_type": "code",
        "colab": {}
      },
      "source": [
        "#For the ? marks , we will first convert them to null values , and then drop them\n",
        "\n",
        "data = data.replace({'?':np.nan}).dropna()"
      ],
      "execution_count": 0,
      "outputs": []
    },
    {
      "cell_type": "code",
      "metadata": {
        "id": "ZImEE2ec8NiX",
        "colab_type": "code",
        "colab": {
          "base_uri": "https://localhost:8080/",
          "height": 374
        },
        "outputId": "deaf2e3e-794a-4df7-eb0e-efd8c2b5e23b"
      },
      "source": [
        "# Previewing our datatypes\n",
        "\n",
        "data.dtypes"
      ],
      "execution_count": 148,
      "outputs": [
        {
          "output_type": "execute_result",
          "data": {
            "text/plain": [
              "status                       object\n",
              "age                          object\n",
              "sex                           int64\n",
              "on_thyroxine                  int64\n",
              "query_on_thyroxine            int64\n",
              "on_antithyroid_medication     int64\n",
              "thyroid_surgery               int64\n",
              "query_hypothyroid             int64\n",
              "query_hyperthyroid            int64\n",
              "pregnant                      int64\n",
              "sick                          int64\n",
              "tumor                         int64\n",
              "lithium                       int64\n",
              "goitre                        int64\n",
              "TSH_measured                  int64\n",
              "T3_measured                   int64\n",
              "TT4_measured                  int64\n",
              "T4U_measured                  int64\n",
              "FTI_measured                  int64\n",
              "TBG_measured                  int64\n",
              "dtype: object"
            ]
          },
          "metadata": {
            "tags": []
          },
          "execution_count": 148
        }
      ]
    },
    {
      "cell_type": "code",
      "metadata": {
        "id": "g9VlJXrl88B5",
        "colab_type": "code",
        "colab": {}
      },
      "source": [
        "# Converting our age column from object to integer\n",
        "\n",
        "data['age'] = data['age'].astype(int)\n"
      ],
      "execution_count": 0,
      "outputs": []
    },
    {
      "cell_type": "code",
      "metadata": {
        "id": "HUeEaXlo-61o",
        "colab_type": "code",
        "colab": {
          "base_uri": "https://localhost:8080/",
          "height": 34
        },
        "outputId": "f505620b-010b-4e07-b8bf-cedd70c222f0"
      },
      "source": [
        "# Determining the shape of our data after dropping columns with most (?) as unique values\n",
        "\n",
        "data.shape"
      ],
      "execution_count": 159,
      "outputs": [
        {
          "output_type": "execute_result",
          "data": {
            "text/plain": [
              "(2717, 20)"
            ]
          },
          "metadata": {
            "tags": []
          },
          "execution_count": 159
        }
      ]
    },
    {
      "cell_type": "markdown",
      "metadata": {
        "id": "6qBW70cQ-ple",
        "colab_type": "text"
      },
      "source": [
        "## Exploratory Analysis"
      ]
    },
    {
      "cell_type": "markdown",
      "metadata": {
        "id": "Zwg1tpqLINc8",
        "colab_type": "text"
      },
      "source": [
        "## **Univariate Analysis**"
      ]
    },
    {
      "cell_type": "code",
      "metadata": {
        "id": "2FUGfgPnK_A0",
        "colab_type": "code",
        "colab": {
          "base_uri": "https://localhost:8080/",
          "height": 1000
        },
        "outputId": "5824770e-cf35-46e0-9625-de5a4a2c76a5"
      },
      "source": [
        "# Plotting subplots for our data\n",
        "\n",
        "features = ['status', 'sex',\t'on_thyroxine',\t'query_on_thyroxine',\\\n",
        "            'on_antithyroid_medication',\t'thyroid_surgery',\t'query_hypothyroid',\\\n",
        "            'query_hyperthyroid', 'pregnant',\t'sick',\t'tumor',\t'lithium',\t'goitre',\\\n",
        "            'TSH_measured', 'T3_measured',\t'TT4_measured', 'T4U_measured',\t'FTI_measured',\t'TBG_measured']\n",
        "\n",
        "fig, (ax) = plt.subplots(20, 1, figsize=(6, 58))\n",
        "fig.suptitle('Features')\n",
        "\n",
        "\n",
        "for i, col_val in enumerate(features):\n",
        "  sns.countplot(data[col_val], ax=ax[i], palette='inferno')\n",
        "  ax[i].set_xlabel(f'{col_val}', fontsize=18, y=0.1)\n",
        "  ax[i].set_ylabel('Count', fontsize=16)\n",
        "\n",
        " "
      ],
      "execution_count": 172,
      "outputs": [
        {
          "output_type": "display_data",
          "data": {
            "image/png": "[encoded data removed]",
            "text/plain": [
              "<Figure size 432x4176 with 20 Axes>"
            ]
          },
          "metadata": {
            "tags": [],
            "needs_background": "light"
          }
        }
      ]
    },
    {
      "cell_type": "code",
      "metadata": {
        "id": "ZBqd6jCoHk2e",
        "colab_type": "code",
        "colab": {
          "base_uri": "https://localhost:8080/",
          "height": 289
        },
        "outputId": "583b3a7c-ab1d-43cc-b00c-74c20024be09"
      },
      "source": [
        "# Plotting a distplot to visaualize our age column\n",
        "\n",
        "sns.distplot(data.age, color='blue');"
      ],
      "execution_count": 191,
      "outputs": [
        {
          "output_type": "display_data",
          "data": {
            "image/png": "[encoded data removed]",
            "text/plain": [
              "<Figure size 432x288 with 1 Axes>"
            ]
          },
          "metadata": {
            "tags": []
          }
        }
      ]
    },
    {
      "cell_type": "code",
      "metadata": {
        "id": "TQ3w7pZ4CFkx",
        "colab_type": "code",
        "colab": {
          "base_uri": "https://localhost:8080/",
          "height": 357
        },
        "outputId": "f344a48b-7521-41b6-aaca-d913df27183b"
      },
      "source": [
        "# Determing the skewness of our data\n",
        "\n",
        "data.skew()"
      ],
      "execution_count": 173,
      "outputs": [
        {
          "output_type": "execute_result",
          "data": {
            "text/plain": [
              "age                          -0.162462\n",
              "sex                           0.765775\n",
              "on_thyroxine                  1.862320\n",
              "query_on_thyroxine            7.492958\n",
              "on_antithyroid_medication     8.518554\n",
              "thyroid_surgery               5.220463\n",
              "query_hypothyroid             3.038010\n",
              "query_hyperthyroid            3.038010\n",
              "pregnant                      6.566632\n",
              "sick                          5.285766\n",
              "tumor                         8.397863\n",
              "lithium                      36.837466\n",
              "goitre                        5.157230\n",
              "TSH_measured                 -1.888867\n",
              "T3_measured                  -1.256733\n",
              "TT4_measured                 -3.073847\n",
              "T4U_measured                 -3.082946\n",
              "FTI_measured                 -3.092102\n",
              "TBG_measured                  3.003036\n",
              "dtype: float64"
            ]
          },
          "metadata": {
            "tags": []
          },
          "execution_count": 173
        }
      ]
    },
    {
      "cell_type": "code",
      "metadata": {
        "id": "wuX3LKWACOjK",
        "colab_type": "code",
        "colab": {
          "base_uri": "https://localhost:8080/",
          "height": 357
        },
        "outputId": "6bde6626-ab55-451f-a607-172f7a2b0776"
      },
      "source": [
        "# Determining the kurtosis of our data\n",
        "\n",
        "data.kurt()"
      ],
      "execution_count": 174,
      "outputs": [
        {
          "output_type": "execute_result",
          "data": {
            "text/plain": [
              "age                            -0.960760\n",
              "sex                            -0.907349\n",
              "on_thyroxine                    1.469317\n",
              "query_on_thyroxine             54.184309\n",
              "on_antithyroid_medication      70.617746\n",
              "thyroid_surgery                25.271839\n",
              "query_hypothyroid               7.234831\n",
              "query_hyperthyroid              7.234831\n",
              "pregnant                       41.150942\n",
              "sick                           25.958426\n",
              "tumor                          68.574576\n",
              "lithium                      1355.997053\n",
              "goitre                         24.615139\n",
              "TSH_measured                    1.568973\n",
              "T3_measured                    -0.420932\n",
              "TT4_measured                    7.454024\n",
              "T4U_measured                    7.510084\n",
              "FTI_measured                    7.566663\n",
              "TBG_measured                    7.023395\n",
              "dtype: float64"
            ]
          },
          "metadata": {
            "tags": []
          },
          "execution_count": 174
        }
      ]
    },
    {
      "cell_type": "code",
      "metadata": {
        "id": "6ukmyXIICkRU",
        "colab_type": "code",
        "colab": {
          "base_uri": "https://localhost:8080/",
          "height": 357
        },
        "outputId": "61c3053b-7c95-4313-9f85-6377edf0307d"
      },
      "source": [
        "# Determining the standard deviation of our data\n",
        "\n",
        "data.std()"
      ],
      "execution_count": 176,
      "outputs": [
        {
          "output_type": "execute_result",
          "data": {
            "text/plain": [
              "age                          19.294405\n",
              "sex                           0.465095\n",
              "on_thyroxine                  0.366085\n",
              "query_on_thyroxine            0.129035\n",
              "on_antithyroid_medication     0.114364\n",
              "thyroid_surgery               0.178995\n",
              "query_hypothyroid             0.275090\n",
              "query_hyperthyroid            0.275090\n",
              "pregnant                      0.145779\n",
              "sick                          0.177063\n",
              "tumor                         0.115920\n",
              "lithium                       0.027126\n",
              "goitre                        0.180904\n",
              "TSH_measured                  0.363670\n",
              "T3_measured                   0.423501\n",
              "TT4_measured                  0.272842\n",
              "T4U_measured                  0.272276\n",
              "FTI_measured                  0.271708\n",
              "TBG_measured                  0.277313\n",
              "dtype: float64"
            ]
          },
          "metadata": {
            "tags": []
          },
          "execution_count": 176
        }
      ]
    },
    {
      "cell_type": "code",
      "metadata": {
        "id": "E8NhGFm7CXC1",
        "colab_type": "code",
        "colab": {
          "base_uri": "https://localhost:8080/",
          "height": 357
        },
        "outputId": "abc386ba-a96b-44f7-dbfa-1c1e991db312"
      },
      "source": [
        "# Determining the variance of our data\n",
        "\n",
        "data.var()"
      ],
      "execution_count": 175,
      "outputs": [
        {
          "output_type": "execute_result",
          "data": {
            "text/plain": [
              "age                          372.274074\n",
              "sex                            0.216314\n",
              "on_thyroxine                   0.134018\n",
              "query_on_thyroxine             0.016650\n",
              "on_antithyroid_medication      0.013079\n",
              "thyroid_surgery                0.032039\n",
              "query_hypothyroid              0.075675\n",
              "query_hyperthyroid             0.075675\n",
              "pregnant                       0.021251\n",
              "sick                           0.031351\n",
              "tumor                          0.013437\n",
              "lithium                        0.000736\n",
              "goitre                         0.032726\n",
              "TSH_measured                   0.132256\n",
              "T3_measured                    0.179353\n",
              "TT4_measured                   0.074443\n",
              "T4U_measured                   0.074134\n",
              "FTI_measured                   0.073825\n",
              "TBG_measured                   0.076902\n",
              "dtype: float64"
            ]
          },
          "metadata": {
            "tags": []
          },
          "execution_count": 175
        }
      ]
    },
    {
      "cell_type": "markdown",
      "metadata": {
        "id": "3UY1fIe1IG-A",
        "colab_type": "text"
      },
      "source": [
        ""
      ]
    },
    {
      "cell_type": "markdown",
      "metadata": {
        "id": "OjnwEjnCHM_j",
        "colab_type": "text"
      },
      "source": [
        "## **Bivariate Analysis**"
      ]
    },
    {
      "cell_type": "code",
      "metadata": {
        "id": "iqDRuoETRs8S",
        "colab_type": "code",
        "colab": {
          "base_uri": "https://localhost:8080/",
          "height": 658
        },
        "outputId": "482c88ab-4503-4df1-cc14-ecb2ab131f92"
      },
      "source": [
        "# Determining the correlation between our numerical data\n",
        "\n",
        "data.corr()"
      ],
      "execution_count": 180,
      "outputs": [
        {
          "output_type": "execute_result",
          "data": {
            "text/html": [
              "<div>\n",
              "<style scoped>\n",
              "    .dataframe tbody tr th:only-of-type {\n",
              "        vertical-align: middle;\n",
              "    }\n",
              "\n",
              "    .dataframe tbody tr th {\n",
              "        vertical-align: top;\n",
              "    }\n",
              "\n",
              "    .dataframe thead th {\n",
              "        text-align: right;\n",
              "    }\n",
              "</style>\n",
              "<table border=\"1\" class=\"dataframe\">\n",
              "  <thead>\n",
              "    <tr style=\"text-align: right;\">\n",
              "      <th></th>\n",
              "      <th>age</th>\n",
              "      <th>sex</th>\n",
              "      <th>on_thyroxine</th>\n",
              "      <th>query_on_thyroxine</th>\n",
              "      <th>on_antithyroid_medication</th>\n",
              "      <th>thyroid_surgery</th>\n",
              "      <th>query_hypothyroid</th>\n",
              "      <th>query_hyperthyroid</th>\n",
              "      <th>pregnant</th>\n",
              "      <th>sick</th>\n",
              "      <th>tumor</th>\n",
              "      <th>lithium</th>\n",
              "      <th>goitre</th>\n",
              "      <th>TSH_measured</th>\n",
              "      <th>T3_measured</th>\n",
              "      <th>TT4_measured</th>\n",
              "      <th>T4U_measured</th>\n",
              "      <th>FTI_measured</th>\n",
              "      <th>TBG_measured</th>\n",
              "    </tr>\n",
              "  </thead>\n",
              "  <tbody>\n",
              "    <tr>\n",
              "      <th>age</th>\n",
              "      <td>1.000000</td>\n",
              "      <td>0.016643</td>\n",
              "      <td>-0.001552</td>\n",
              "      <td>-0.021606</td>\n",
              "      <td>-0.063665</td>\n",
              "      <td>-0.013207</td>\n",
              "      <td>-0.091812</td>\n",
              "      <td>-0.091812</td>\n",
              "      <td>-0.164818</td>\n",
              "      <td>0.068590</td>\n",
              "      <td>-0.065635</td>\n",
              "      <td>-0.021321</td>\n",
              "      <td>-0.038627</td>\n",
              "      <td>0.212235</td>\n",
              "      <td>0.186594</td>\n",
              "      <td>0.134630</td>\n",
              "      <td>0.132236</td>\n",
              "      <td>0.132853</td>\n",
              "      <td>-0.137705</td>\n",
              "    </tr>\n",
              "    <tr>\n",
              "      <th>sex</th>\n",
              "      <td>0.016643</td>\n",
              "      <td>1.000000</td>\n",
              "      <td>-0.141316</td>\n",
              "      <td>0.060712</td>\n",
              "      <td>-0.043301</td>\n",
              "      <td>-0.042628</td>\n",
              "      <td>-0.068524</td>\n",
              "      <td>-0.068524</td>\n",
              "      <td>-0.091272</td>\n",
              "      <td>0.022047</td>\n",
              "      <td>-0.003690</td>\n",
              "      <td>-0.016627</td>\n",
              "      <td>-0.088432</td>\n",
              "      <td>0.037781</td>\n",
              "      <td>0.103145</td>\n",
              "      <td>0.100600</td>\n",
              "      <td>0.099981</td>\n",
              "      <td>0.102273</td>\n",
              "      <td>-0.102629</td>\n",
              "    </tr>\n",
              "    <tr>\n",
              "      <th>on_thyroxine</th>\n",
              "      <td>-0.001552</td>\n",
              "      <td>-0.141316</td>\n",
              "      <td>1.000000</td>\n",
              "      <td>-0.033757</td>\n",
              "      <td>-0.024072</td>\n",
              "      <td>0.026167</td>\n",
              "      <td>-0.101266</td>\n",
              "      <td>-0.101266</td>\n",
              "      <td>-0.002778</td>\n",
              "      <td>-0.068300</td>\n",
              "      <td>-0.025131</td>\n",
              "      <td>-0.011818</td>\n",
              "      <td>-0.031477</td>\n",
              "      <td>0.082663</td>\n",
              "      <td>-0.160640</td>\n",
              "      <td>0.066575</td>\n",
              "      <td>0.066125</td>\n",
              "      <td>0.069375</td>\n",
              "      <td>-0.070126</td>\n",
              "    </tr>\n",
              "    <tr>\n",
              "      <th>query_on_thyroxine</th>\n",
              "      <td>-0.021606</td>\n",
              "      <td>0.060712</td>\n",
              "      <td>-0.033757</td>\n",
              "      <td>1.000000</td>\n",
              "      <td>-0.015207</td>\n",
              "      <td>0.023533</td>\n",
              "      <td>-0.039337</td>\n",
              "      <td>-0.039337</td>\n",
              "      <td>-0.019552</td>\n",
              "      <td>-0.024010</td>\n",
              "      <td>0.058426</td>\n",
              "      <td>-0.003562</td>\n",
              "      <td>0.006978</td>\n",
              "      <td>-0.116026</td>\n",
              "      <td>-0.082417</td>\n",
              "      <td>0.038953</td>\n",
              "      <td>0.038857</td>\n",
              "      <td>0.038760</td>\n",
              "      <td>-0.039719</td>\n",
              "    </tr>\n",
              "    <tr>\n",
              "      <th>on_antithyroid_medication</th>\n",
              "      <td>-0.063665</td>\n",
              "      <td>-0.043301</td>\n",
              "      <td>-0.024072</td>\n",
              "      <td>-0.015207</td>\n",
              "      <td>1.000000</td>\n",
              "      <td>-0.003462</td>\n",
              "      <td>0.094000</td>\n",
              "      <td>0.094000</td>\n",
              "      <td>0.004820</td>\n",
              "      <td>-0.021201</td>\n",
              "      <td>-0.013616</td>\n",
              "      <td>-0.003145</td>\n",
              "      <td>-0.021694</td>\n",
              "      <td>-0.012000</td>\n",
              "      <td>-0.004356</td>\n",
              "      <td>-0.036402</td>\n",
              "      <td>-0.036635</td>\n",
              "      <td>-0.036868</td>\n",
              "      <td>0.034585</td>\n",
              "    </tr>\n",
              "    <tr>\n",
              "      <th>thyroid_surgery</th>\n",
              "      <td>-0.013207</td>\n",
              "      <td>-0.042628</td>\n",
              "      <td>0.026167</td>\n",
              "      <td>0.023533</td>\n",
              "      <td>-0.003462</td>\n",
              "      <td>1.000000</td>\n",
              "      <td>0.026770</td>\n",
              "      <td>0.026770</td>\n",
              "      <td>-0.013466</td>\n",
              "      <td>-0.033864</td>\n",
              "      <td>-0.021748</td>\n",
              "      <td>-0.005024</td>\n",
              "      <td>-0.023281</td>\n",
              "      <td>0.045878</td>\n",
              "      <td>0.014898</td>\n",
              "      <td>0.017245</td>\n",
              "      <td>0.017031</td>\n",
              "      <td>0.016816</td>\n",
              "      <td>-0.018933</td>\n",
              "    </tr>\n",
              "    <tr>\n",
              "      <th>query_hypothyroid</th>\n",
              "      <td>-0.091812</td>\n",
              "      <td>-0.068524</td>\n",
              "      <td>-0.101266</td>\n",
              "      <td>-0.039337</td>\n",
              "      <td>0.094000</td>\n",
              "      <td>0.026770</td>\n",
              "      <td>1.000000</td>\n",
              "      <td>1.000000</td>\n",
              "      <td>0.065516</td>\n",
              "      <td>-0.054841</td>\n",
              "      <td>-0.035221</td>\n",
              "      <td>-0.008136</td>\n",
              "      <td>0.040064</td>\n",
              "      <td>-0.124686</td>\n",
              "      <td>-0.014429</td>\n",
              "      <td>-0.077813</td>\n",
              "      <td>-0.078380</td>\n",
              "      <td>-0.078950</td>\n",
              "      <td>0.087854</td>\n",
              "    </tr>\n",
              "    <tr>\n",
              "      <th>query_hyperthyroid</th>\n",
              "      <td>-0.091812</td>\n",
              "      <td>-0.068524</td>\n",
              "      <td>-0.101266</td>\n",
              "      <td>-0.039337</td>\n",
              "      <td>0.094000</td>\n",
              "      <td>0.026770</td>\n",
              "      <td>1.000000</td>\n",
              "      <td>1.000000</td>\n",
              "      <td>0.065516</td>\n",
              "      <td>-0.054841</td>\n",
              "      <td>-0.035221</td>\n",
              "      <td>-0.008136</td>\n",
              "      <td>0.040064</td>\n",
              "      <td>-0.124686</td>\n",
              "      <td>-0.014429</td>\n",
              "      <td>-0.077813</td>\n",
              "      <td>-0.078380</td>\n",
              "      <td>-0.078950</td>\n",
              "      <td>0.087854</td>\n",
              "    </tr>\n",
              "    <tr>\n",
              "      <th>pregnant</th>\n",
              "      <td>-0.164818</td>\n",
              "      <td>-0.091272</td>\n",
              "      <td>-0.002778</td>\n",
              "      <td>-0.019552</td>\n",
              "      <td>0.004820</td>\n",
              "      <td>-0.013466</td>\n",
              "      <td>0.065516</td>\n",
              "      <td>0.065516</td>\n",
              "      <td>1.000000</td>\n",
              "      <td>-0.027258</td>\n",
              "      <td>0.004282</td>\n",
              "      <td>-0.004044</td>\n",
              "      <td>0.083799</td>\n",
              "      <td>0.015631</td>\n",
              "      <td>0.040618</td>\n",
              "      <td>0.007196</td>\n",
              "      <td>0.007009</td>\n",
              "      <td>0.006822</td>\n",
              "      <td>-0.008662</td>\n",
              "    </tr>\n",
              "    <tr>\n",
              "      <th>sick</th>\n",
              "      <td>0.068590</td>\n",
              "      <td>0.022047</td>\n",
              "      <td>-0.068300</td>\n",
              "      <td>-0.024010</td>\n",
              "      <td>-0.021201</td>\n",
              "      <td>-0.033864</td>\n",
              "      <td>-0.054841</td>\n",
              "      <td>-0.054841</td>\n",
              "      <td>-0.027258</td>\n",
              "      <td>1.000000</td>\n",
              "      <td>-0.021497</td>\n",
              "      <td>-0.004966</td>\n",
              "      <td>-0.034251</td>\n",
              "      <td>0.050304</td>\n",
              "      <td>0.081503</td>\n",
              "      <td>0.031442</td>\n",
              "      <td>0.031260</td>\n",
              "      <td>0.031077</td>\n",
              "      <td>-0.032878</td>\n",
              "    </tr>\n",
              "    <tr>\n",
              "      <th>tumor</th>\n",
              "      <td>-0.065635</td>\n",
              "      <td>-0.003690</td>\n",
              "      <td>-0.025131</td>\n",
              "      <td>0.058426</td>\n",
              "      <td>-0.013616</td>\n",
              "      <td>-0.021748</td>\n",
              "      <td>-0.035221</td>\n",
              "      <td>-0.035221</td>\n",
              "      <td>0.004282</td>\n",
              "      <td>-0.021497</td>\n",
              "      <td>1.000000</td>\n",
              "      <td>-0.003189</td>\n",
              "      <td>-0.021997</td>\n",
              "      <td>-0.027937</td>\n",
              "      <td>-0.002542</td>\n",
              "      <td>0.023235</td>\n",
              "      <td>0.023125</td>\n",
              "      <td>0.034704</td>\n",
              "      <td>-0.035562</td>\n",
              "    </tr>\n",
              "    <tr>\n",
              "      <th>lithium</th>\n",
              "      <td>-0.021321</td>\n",
              "      <td>-0.016627</td>\n",
              "      <td>-0.011818</td>\n",
              "      <td>-0.003562</td>\n",
              "      <td>-0.003145</td>\n",
              "      <td>-0.005024</td>\n",
              "      <td>-0.008136</td>\n",
              "      <td>-0.008136</td>\n",
              "      <td>-0.004044</td>\n",
              "      <td>-0.004966</td>\n",
              "      <td>-0.003189</td>\n",
              "      <td>1.000000</td>\n",
              "      <td>-0.005081</td>\n",
              "      <td>0.011704</td>\n",
              "      <td>0.015005</td>\n",
              "      <td>0.008056</td>\n",
              "      <td>0.008036</td>\n",
              "      <td>0.008016</td>\n",
              "      <td>-0.008215</td>\n",
              "    </tr>\n",
              "    <tr>\n",
              "      <th>goitre</th>\n",
              "      <td>-0.038627</td>\n",
              "      <td>-0.088432</td>\n",
              "      <td>-0.031477</td>\n",
              "      <td>0.006978</td>\n",
              "      <td>-0.021694</td>\n",
              "      <td>-0.023281</td>\n",
              "      <td>0.040064</td>\n",
              "      <td>0.040064</td>\n",
              "      <td>0.083799</td>\n",
              "      <td>-0.034251</td>\n",
              "      <td>-0.021997</td>\n",
              "      <td>-0.005081</td>\n",
              "      <td>1.000000</td>\n",
              "      <td>-0.075973</td>\n",
              "      <td>-0.055096</td>\n",
              "      <td>-0.086162</td>\n",
              "      <td>-0.086594</td>\n",
              "      <td>-0.087029</td>\n",
              "      <td>0.090124</td>\n",
              "    </tr>\n",
              "    <tr>\n",
              "      <th>TSH_measured</th>\n",
              "      <td>0.212235</td>\n",
              "      <td>0.037781</td>\n",
              "      <td>0.082663</td>\n",
              "      <td>-0.116026</td>\n",
              "      <td>-0.012000</td>\n",
              "      <td>0.045878</td>\n",
              "      <td>-0.124686</td>\n",
              "      <td>-0.124686</td>\n",
              "      <td>0.015631</td>\n",
              "      <td>0.050304</td>\n",
              "      <td>-0.027937</td>\n",
              "      <td>0.011704</td>\n",
              "      <td>-0.075973</td>\n",
              "      <td>1.000000</td>\n",
              "      <td>0.615058</td>\n",
              "      <td>0.688351</td>\n",
              "      <td>0.686647</td>\n",
              "      <td>0.684941</td>\n",
              "      <td>-0.694578</td>\n",
              "    </tr>\n",
              "    <tr>\n",
              "      <th>T3_measured</th>\n",
              "      <td>0.186594</td>\n",
              "      <td>0.103145</td>\n",
              "      <td>-0.160640</td>\n",
              "      <td>-0.082417</td>\n",
              "      <td>-0.004356</td>\n",
              "      <td>0.014898</td>\n",
              "      <td>-0.014429</td>\n",
              "      <td>-0.014429</td>\n",
              "      <td>0.040618</td>\n",
              "      <td>0.081503</td>\n",
              "      <td>-0.002542</td>\n",
              "      <td>0.015005</td>\n",
              "      <td>-0.055096</td>\n",
              "      <td>0.615058</td>\n",
              "      <td>1.000000</td>\n",
              "      <td>0.536920</td>\n",
              "      <td>0.535591</td>\n",
              "      <td>0.534260</td>\n",
              "      <td>-0.541203</td>\n",
              "    </tr>\n",
              "    <tr>\n",
              "      <th>TT4_measured</th>\n",
              "      <td>0.134630</td>\n",
              "      <td>0.100600</td>\n",
              "      <td>0.066575</td>\n",
              "      <td>0.038953</td>\n",
              "      <td>-0.036402</td>\n",
              "      <td>0.017245</td>\n",
              "      <td>-0.077813</td>\n",
              "      <td>-0.077813</td>\n",
              "      <td>0.007196</td>\n",
              "      <td>0.031442</td>\n",
              "      <td>0.023235</td>\n",
              "      <td>0.008056</td>\n",
              "      <td>-0.086162</td>\n",
              "      <td>0.688351</td>\n",
              "      <td>0.536920</td>\n",
              "      <td>1.000000</td>\n",
              "      <td>0.997525</td>\n",
              "      <td>0.995046</td>\n",
              "      <td>-0.970992</td>\n",
              "    </tr>\n",
              "    <tr>\n",
              "      <th>T4U_measured</th>\n",
              "      <td>0.132236</td>\n",
              "      <td>0.099981</td>\n",
              "      <td>0.066125</td>\n",
              "      <td>0.038857</td>\n",
              "      <td>-0.036635</td>\n",
              "      <td>0.017031</td>\n",
              "      <td>-0.078380</td>\n",
              "      <td>-0.078380</td>\n",
              "      <td>0.007009</td>\n",
              "      <td>0.031260</td>\n",
              "      <td>0.023125</td>\n",
              "      <td>0.008036</td>\n",
              "      <td>-0.086594</td>\n",
              "      <td>0.686647</td>\n",
              "      <td>0.535591</td>\n",
              "      <td>0.997525</td>\n",
              "      <td>1.000000</td>\n",
              "      <td>0.997515</td>\n",
              "      <td>-0.973421</td>\n",
              "    </tr>\n",
              "    <tr>\n",
              "      <th>FTI_measured</th>\n",
              "      <td>0.132853</td>\n",
              "      <td>0.102273</td>\n",
              "      <td>0.069375</td>\n",
              "      <td>0.038760</td>\n",
              "      <td>-0.036868</td>\n",
              "      <td>0.016816</td>\n",
              "      <td>-0.078950</td>\n",
              "      <td>-0.078950</td>\n",
              "      <td>0.006822</td>\n",
              "      <td>0.031077</td>\n",
              "      <td>0.034704</td>\n",
              "      <td>0.008016</td>\n",
              "      <td>-0.087029</td>\n",
              "      <td>0.684941</td>\n",
              "      <td>0.534260</td>\n",
              "      <td>0.995046</td>\n",
              "      <td>0.997515</td>\n",
              "      <td>1.000000</td>\n",
              "      <td>-0.975866</td>\n",
              "    </tr>\n",
              "    <tr>\n",
              "      <th>TBG_measured</th>\n",
              "      <td>-0.137705</td>\n",
              "      <td>-0.102629</td>\n",
              "      <td>-0.070126</td>\n",
              "      <td>-0.039719</td>\n",
              "      <td>0.034585</td>\n",
              "      <td>-0.018933</td>\n",
              "      <td>0.087854</td>\n",
              "      <td>0.087854</td>\n",
              "      <td>-0.008662</td>\n",
              "      <td>-0.032878</td>\n",
              "      <td>-0.035562</td>\n",
              "      <td>-0.008215</td>\n",
              "      <td>0.090124</td>\n",
              "      <td>-0.694578</td>\n",
              "      <td>-0.541203</td>\n",
              "      <td>-0.970992</td>\n",
              "      <td>-0.973421</td>\n",
              "      <td>-0.975866</td>\n",
              "      <td>1.000000</td>\n",
              "    </tr>\n",
              "  </tbody>\n",
              "</table>\n",
              "</div>"
            ],
            "text/plain": [
              "                                age       sex  on_thyroxine  \\\n",
              "age                        1.000000  0.016643     -0.001552   \n",
              "sex                        0.016643  1.000000     -0.141316   \n",
              "on_thyroxine              -0.001552 -0.141316      1.000000   \n",
              "query_on_thyroxine        -0.021606  0.060712     -0.033757   \n",
              "on_antithyroid_medication -0.063665 -0.043301     -0.024072   \n",
              "thyroid_surgery           -0.013207 -0.042628      0.026167   \n",
              "query_hypothyroid         -0.091812 -0.068524     -0.101266   \n",
              "query_hyperthyroid        -0.091812 -0.068524     -0.101266   \n",
              "pregnant                  -0.164818 -0.091272     -0.002778   \n",
              "sick                       0.068590  0.022047     -0.068300   \n",
              "tumor                     -0.065635 -0.003690     -0.025131   \n",
              "lithium                   -0.021321 -0.016627     -0.011818   \n",
              "goitre                    -0.038627 -0.088432     -0.031477   \n",
              "TSH_measured               0.212235  0.037781      0.082663   \n",
              "T3_measured                0.186594  0.103145     -0.160640   \n",
              "TT4_measured               0.134630  0.100600      0.066575   \n",
              "T4U_measured               0.132236  0.099981      0.066125   \n",
              "FTI_measured               0.132853  0.102273      0.069375   \n",
              "TBG_measured              -0.137705 -0.102629     -0.070126   \n",
              "\n",
              "                           query_on_thyroxine  on_antithyroid_medication  \\\n",
              "age                                 -0.021606                  -0.063665   \n",
              "sex                                  0.060712                  -0.043301   \n",
              "on_thyroxine                        -0.033757                  -0.024072   \n",
              "query_on_thyroxine                   1.000000                  -0.015207   \n",
              "on_antithyroid_medication           -0.015207                   1.000000   \n",
              "thyroid_surgery                      0.023533                  -0.003462   \n",
              "query_hypothyroid                   -0.039337                   0.094000   \n",
              "query_hyperthyroid                  -0.039337                   0.094000   \n",
              "pregnant                            -0.019552                   0.004820   \n",
              "sick                                -0.024010                  -0.021201   \n",
              "tumor                                0.058426                  -0.013616   \n",
              "lithium                             -0.003562                  -0.003145   \n",
              "goitre                               0.006978                  -0.021694   \n",
              "TSH_measured                        -0.116026                  -0.012000   \n",
              "T3_measured                         -0.082417                  -0.004356   \n",
              "TT4_measured                         0.038953                  -0.036402   \n",
              "T4U_measured                         0.038857                  -0.036635   \n",
              "FTI_measured                         0.038760                  -0.036868   \n",
              "TBG_measured                        -0.039719                   0.034585   \n",
              "\n",
              "                           thyroid_surgery  query_hypothyroid  \\\n",
              "age                              -0.013207          -0.091812   \n",
              "sex                              -0.042628          -0.068524   \n",
              "on_thyroxine                      0.026167          -0.101266   \n",
              "query_on_thyroxine                0.023533          -0.039337   \n",
              "on_antithyroid_medication        -0.003462           0.094000   \n",
              "thyroid_surgery                   1.000000           0.026770   \n",
              "query_hypothyroid                 0.026770           1.000000   \n",
              "query_hyperthyroid                0.026770           1.000000   \n",
              "pregnant                         -0.013466           0.065516   \n",
              "sick                             -0.033864          -0.054841   \n",
              "tumor                            -0.021748          -0.035221   \n",
              "lithium                          -0.005024          -0.008136   \n",
              "goitre                           -0.023281           0.040064   \n",
              "TSH_measured                      0.045878          -0.124686   \n",
              "T3_measured                       0.014898          -0.014429   \n",
              "TT4_measured                      0.017245          -0.077813   \n",
              "T4U_measured                      0.017031          -0.078380   \n",
              "FTI_measured                      0.016816          -0.078950   \n",
              "TBG_measured                     -0.018933           0.087854   \n",
              "\n",
              "                           query_hyperthyroid  pregnant      sick     tumor  \\\n",
              "age                                 -0.091812 -0.164818  0.068590 -0.065635   \n",
              "sex                                 -0.068524 -0.091272  0.022047 -0.003690   \n",
              "on_thyroxine                        -0.101266 -0.002778 -0.068300 -0.025131   \n",
              "query_on_thyroxine                  -0.039337 -0.019552 -0.024010  0.058426   \n",
              "on_antithyroid_medication            0.094000  0.004820 -0.021201 -0.013616   \n",
              "thyroid_surgery                      0.026770 -0.013466 -0.033864 -0.021748   \n",
              "query_hypothyroid                    1.000000  0.065516 -0.054841 -0.035221   \n",
              "query_hyperthyroid                   1.000000  0.065516 -0.054841 -0.035221   \n",
              "pregnant                             0.065516  1.000000 -0.027258  0.004282   \n",
              "sick                                -0.054841 -0.027258  1.000000 -0.021497   \n",
              "tumor                               -0.035221  0.004282 -0.021497  1.000000   \n",
              "lithium                             -0.008136 -0.004044 -0.004966 -0.003189   \n",
              "goitre                               0.040064  0.083799 -0.034251 -0.021997   \n",
              "TSH_measured                        -0.124686  0.015631  0.050304 -0.027937   \n",
              "T3_measured                         -0.014429  0.040618  0.081503 -0.002542   \n",
              "TT4_measured                        -0.077813  0.007196  0.031442  0.023235   \n",
              "T4U_measured                        -0.078380  0.007009  0.031260  0.023125   \n",
              "FTI_measured                        -0.078950  0.006822  0.031077  0.034704   \n",
              "TBG_measured                         0.087854 -0.008662 -0.032878 -0.035562   \n",
              "\n",
              "                            lithium    goitre  TSH_measured  T3_measured  \\\n",
              "age                       -0.021321 -0.038627      0.212235     0.186594   \n",
              "sex                       -0.016627 -0.088432      0.037781     0.103145   \n",
              "on_thyroxine              -0.011818 -0.031477      0.082663    -0.160640   \n",
              "query_on_thyroxine        -0.003562  0.006978     -0.116026    -0.082417   \n",
              "on_antithyroid_medication -0.003145 -0.021694     -0.012000    -0.004356   \n",
              "thyroid_surgery           -0.005024 -0.023281      0.045878     0.014898   \n",
              "query_hypothyroid         -0.008136  0.040064     -0.124686    -0.014429   \n",
              "query_hyperthyroid        -0.008136  0.040064     -0.124686    -0.014429   \n",
              "pregnant                  -0.004044  0.083799      0.015631     0.040618   \n",
              "sick                      -0.004966 -0.034251      0.050304     0.081503   \n",
              "tumor                     -0.003189 -0.021997     -0.027937    -0.002542   \n",
              "lithium                    1.000000 -0.005081      0.011704     0.015005   \n",
              "goitre                    -0.005081  1.000000     -0.075973    -0.055096   \n",
              "TSH_measured               0.011704 -0.075973      1.000000     0.615058   \n",
              "T3_measured                0.015005 -0.055096      0.615058     1.000000   \n",
              "TT4_measured               0.008056 -0.086162      0.688351     0.536920   \n",
              "T4U_measured               0.008036 -0.086594      0.686647     0.535591   \n",
              "FTI_measured               0.008016 -0.087029      0.684941     0.534260   \n",
              "TBG_measured              -0.008215  0.090124     -0.694578    -0.541203   \n",
              "\n",
              "                           TT4_measured  T4U_measured  FTI_measured  \\\n",
              "age                            0.134630      0.132236      0.132853   \n",
              "sex                            0.100600      0.099981      0.102273   \n",
              "on_thyroxine                   0.066575      0.066125      0.069375   \n",
              "query_on_thyroxine             0.038953      0.038857      0.038760   \n",
              "on_antithyroid_medication     -0.036402     -0.036635     -0.036868   \n",
              "thyroid_surgery                0.017245      0.017031      0.016816   \n",
              "query_hypothyroid             -0.077813     -0.078380     -0.078950   \n",
              "query_hyperthyroid            -0.077813     -0.078380     -0.078950   \n",
              "pregnant                       0.007196      0.007009      0.006822   \n",
              "sick                           0.031442      0.031260      0.031077   \n",
              "tumor                          0.023235      0.023125      0.034704   \n",
              "lithium                        0.008056      0.008036      0.008016   \n",
              "goitre                        -0.086162     -0.086594     -0.087029   \n",
              "TSH_measured                   0.688351      0.686647      0.684941   \n",
              "T3_measured                    0.536920      0.535591      0.534260   \n",
              "TT4_measured                   1.000000      0.997525      0.995046   \n",
              "T4U_measured                   0.997525      1.000000      0.997515   \n",
              "FTI_measured                   0.995046      0.997515      1.000000   \n",
              "TBG_measured                  -0.970992     -0.973421     -0.975866   \n",
              "\n",
              "                           TBG_measured  \n",
              "age                           -0.137705  \n",
              "sex                           -0.102629  \n",
              "on_thyroxine                  -0.070126  \n",
              "query_on_thyroxine            -0.039719  \n",
              "on_antithyroid_medication      0.034585  \n",
              "thyroid_surgery               -0.018933  \n",
              "query_hypothyroid              0.087854  \n",
              "query_hyperthyroid             0.087854  \n",
              "pregnant                      -0.008662  \n",
              "sick                          -0.032878  \n",
              "tumor                         -0.035562  \n",
              "lithium                       -0.008215  \n",
              "goitre                         0.090124  \n",
              "TSH_measured                  -0.694578  \n",
              "T3_measured                   -0.541203  \n",
              "TT4_measured                  -0.970992  \n",
              "T4U_measured                  -0.973421  \n",
              "FTI_measured                  -0.975866  \n",
              "TBG_measured                   1.000000  "
            ]
          },
          "metadata": {
            "tags": []
          },
          "execution_count": 180
        }
      ]
    },
    {
      "cell_type": "code",
      "metadata": {
        "id": "ML5CdR-kRyQm",
        "colab_type": "code",
        "colab": {
          "base_uri": "https://localhost:8080/",
          "height": 841
        },
        "outputId": "cd81ab6d-469f-4b17-967d-3d042df85d6f"
      },
      "source": [
        "# Plotting our correlations on a heatmap\n",
        "\n",
        "plt.figure(figsize= (25,15))\n",
        "ax = sns.heatmap(data.corr(), cmap=sns.diverging_palette(30, 220, n=256), annot=True)\n",
        "ax.set_xticklabels(ax.get_xticklabels(), rotation=45, horizontalalignment='right');\n",
        "plt.show()"
      ],
      "execution_count": 192,
      "outputs": [
        {
          "output_type": "display_data",
          "data": {
            "image/png": "[encoded data removed]",
            "text/plain": [
              "<Figure size 1800x1080 with 2 Axes>"
            ]
          },
          "metadata": {
            "tags": []
          }
        }
      ]
    },
    {
      "cell_type": "markdown",
      "metadata": {
        "id": "raBEy5XS-u4-",
        "colab_type": "text"
      },
      "source": [
        "## Implementing the solution"
      ]
    },
    {
      "cell_type": "markdown",
      "metadata": {
        "id": "NfnjUAX3-0Pg",
        "colab_type": "text"
      },
      "source": [
        "i) Part 1: Decision trees:\n",
        "- For this section, you should build a model that makes the above prediction. You should not use individual decision trees, rather you should use at least 2 out of the 3 advanced models we have studied: Random forests, Ada boosted trees, and gradient boosted trees.\n",
        "- Try and optimize each of the 2 models, making sure to document how you've set up your hyperparameters.\n",
        "- Identify which of the 2 models you trust most, and use your model to determine which features are most impactful in influencing the prediction\n",
        "- Note that with decision trees, you don't need to do a lot of data cleaning. This will be very different with SVM"
      ]
    },
    {
      "cell_type": "markdown",
      "metadata": {
        "id": "9Ljaw76I_Mmo",
        "colab_type": "text"
      },
      "source": [
        "ii) Part 2: SVM:\n",
        "\n",
        "- In this section, you may be required to clean the data a little bit so as to make sense of the features.\n",
        "\n",
        "- Document what transformation you've done on the data.\n",
        "\n",
        "- Apply Polynomial, linear and rbf kernel function to build your SVM model and then evaluate their performance and pick the kernel that performs the best. Remember to tune your parameters to improve the performance of your model. To make your life easier, make sure to visualize the models you've created. Use any two features to build the models for this step.\n",
        "\n",
        "Hint: You may want to use decision trees to give you the most preferable features you can use. but also keep in mind that those features might not be suitable for SVM. It might be a good idea to graph them first.\n",
        "\n",
        "-  After getting your best performing kernel, use this kernel together with your tuned parameters and repeat the prediction but this time using additional features. Compare the model you've just created with the 2-features version. "
      ]
    },
    {
      "cell_type": "markdown",
      "metadata": {
        "id": "6WxKHJfQ_U9k",
        "colab_type": "text"
      },
      "source": [
        ""
      ]
    }
  ]
}